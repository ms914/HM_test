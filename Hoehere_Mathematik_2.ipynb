{
  "nbformat": 4,
  "nbformat_minor": 0,
  "metadata": {
    "colab": {
      "provenance": [],
      "authorship_tag": "ABX9TyNkP4N9KrYXALiNWiBDPk5+",
      "include_colab_link": true
    },
    "kernelspec": {
      "name": "python3",
      "display_name": "Python 3"
    },
    "language_info": {
      "name": "python"
    }
  },
  "cells": [
    {
      "cell_type": "markdown",
      "metadata": {
        "id": "view-in-github",
        "colab_type": "text"
      },
      "source": [
        "<a href=\"https://colab.research.google.com/github/ms914/HM_test/blob/main/Hoehere_Mathematik_2.ipynb\" target=\"_parent\"><img src=\"https://colab.research.google.com/assets/colab-badge.svg\" alt=\"Open In Colab\"/></a>"
      ]
    },
    {
      "cell_type": "markdown",
      "source": [
        "Grafische Zusammenfassung"
      ],
      "metadata": {
        "id": "nHxKKf1FMTaw"
      }
    },
    {
      "cell_type": "markdown",
      "source": [
        "1. Gauss Verfahren: Schnittpunkt von Ebenen\n",
        "\n",
        "2. Abstand von Gerade zu Ebene\n",
        "\n",
        "3. Eigenwertproblem\n",
        "\n",
        "4. Stationäre Punkte\n",
        "\n",
        "5. Stationäre Punkte mit Nebenbedingung\n",
        "\n",
        "6. Gebietsintegration"
      ],
      "metadata": {
        "id": "3BQkm9mhMpGS"
      }
    },
    {
      "cell_type": "markdown",
      "source": [
        "[Improving Matrix Methods with Geometric Algebra](https://www.youtube.com/watch?v=mOUzdpRkVCo)"
      ],
      "metadata": {
        "id": "CT6oCqDyrrFX"
      }
    },
    {
      "cell_type": "markdown",
      "source": [
        "**Aufgabe 1 (8 Punkte)**\n",
        "\n",
        "Gegeben sei ein lineares Gleichungssystem  ***Ax=b*** mit der Koeffizientenmatrix und der rechten Seite\n",
        "\n",
        "$\n",
        "A=\n",
        "\\begin{pmatrix}\n",
        "   1&1& 3& 1\\\\\n",
        "   2& -1& 0& 1&\\\\\n",
        "   -3& 2& 1& -2&\\\\\n",
        "   4& 1& 6& 1&\n",
        "\\end{pmatrix}\n",
        "$ , $\n",
        "b=\n",
        "\\begin{pmatrix}\n",
        "   6\\\\\n",
        "   -1\\\\\n",
        "   1\\\\\n",
        "   3\n",
        "\\end{pmatrix}\n",
        "$\n",
        "\n",
        "Bestimmen Sie die Lösung des Gleichungssystems. Wie ist der Rang der Matrix ***A***?"
      ],
      "metadata": {
        "id": "NbN78h85Ljf4"
      }
    },
    {
      "source": [
        "import sympy as sp; A = sp.Matrix([[1,1,3,1],[2,-1,0,1],[-3,2,1,-2],[4,1,6,1]]); b = sp.Matrix([6,-1,1,3]); print(A.gauss_jordan_solve(b))"
      ],
      "cell_type": "code",
      "metadata": {
        "colab": {
          "base_uri": "https://localhost:8080/"
        },
        "id": "lkhUjyDfYUVD",
        "outputId": "4530da8e-24a4-4bc4-d3eb-ccfe024fa360"
      },
      "execution_count": null,
      "outputs": [
        {
          "output_type": "stream",
          "name": "stdout",
          "text": [
            "(Matrix([\n",
            "[ -tau0 - 1],\n",
            "[3 - 2*tau0],\n",
            "[      tau0],\n",
            "[         4]]), Matrix([[tau0]]))\n"
          ]
        }
      ]
    },
    {
      "cell_type": "markdown",
      "source": [
        "**Aufgabe 2 (7+3 Punkte)**\n",
        "\n",
        "Im dreidimensionalen Raum $R3$ seien eine Gerade in Koordinatendarstellung\n",
        "\n",
        "$g: \\frac{4-x_1}{2}=\\frac{4+x_2}{3}=\\frac{2-x_3}{2}$\n",
        "\n",
        "sowie eine Ebene E durch die drei Punkte (3,1,2), (-1,3,2), (5,-2,4).\n",
        "\n",
        "a) Geben Sie eine Parameterdarstellung der Geraden $g$ und die Hesse-Normalform der Ebene $E$ an.\n",
        "\n",
        "b) Entscheiden Sie ob die Gerade $g$ und die Ebene $E$ sich in einem Punkt schneiden.\n",
        "\n",
        "- Wenn ja, berechnen Sie die Koordinaten des Schnittpunkts.\n",
        "\n",
        "- Wenn nein, berechnen Sie denAbstand der Geraden von der Ebene."
      ],
      "metadata": {
        "id": "Qig5itQgLjUP"
      }
    },
    {
      "cell_type": "markdown",
      "source": [
        "**Aufgabe 3 (8 + 3 Punkte)**\n",
        "\n",
        "Gegeben sei die Matrix\n",
        "\n",
        "$\n",
        "A=\n",
        "\\begin{pmatrix}\n",
        "   1& -2& 3\\\\\n",
        "   1& 0& 1&\\\\\n",
        "   0& 4& -2&\n",
        "\\end{pmatrix}\n",
        "$\n",
        "\n",
        "a) Berechnen Sie alle Eigenwerte und zugehörigen Eigenvektoren von $A$.\n",
        "\n",
        "b) Drücken Sie die lineare Abbildung $y=Ax$ in einer Basis $B$ aus, die durch die Eigenvektoren von $A$ gebildet wird.\n"
      ],
      "metadata": {
        "id": "CDRXgsGCLjGZ"
      }
    },
    {
      "cell_type": "code",
      "source": [
        "import sympy as sp\n",
        "\n",
        "A = sp.Matrix([[1, -2, 3], [1, 0, 1], [0, 4, -2]])\n",
        "A.diagonalize()\n"
      ],
      "metadata": {
        "colab": {
          "base_uri": "https://localhost:8080/"
        },
        "id": "bVcpBRLZaZxB",
        "outputId": "1ab037a5-dd03-4ce0-e619-35ddf4b2812f"
      },
      "execution_count": null,
      "outputs": [
        {
          "output_type": "execute_result",
          "data": {
            "text/plain": [
              "(Matrix([\n",
              " [-1, -5, 1],\n",
              " [ 0,  1, 1],\n",
              " [ 1,  4, 1]]),\n",
              " Matrix([\n",
              " [-2,  0, 0],\n",
              " [ 0, -1, 0],\n",
              " [ 0,  0, 2]]))"
            ]
          },
          "metadata": {},
          "execution_count": 13
        }
      ]
    },
    {
      "cell_type": "markdown",
      "source": [
        "**Aufgabe 4 (4+4+3 Punkte)**\n",
        "Gegeben sei die Funktion $f(x,y)=(y^2-x)ln(x)$ mit $x>0$ und $y\\in ℝ$.\n",
        "\n",
        "a) Berechnen Sie alle stationären Punkte von $f$.\n",
        "\n",
        "b) Überprüfen Sie, bei welchen stationären Punkten es sich um lokale Extrema handelt und geben Sie gegebenenfalls an, ob es sich jeweils um ein lokales Minimum oder Maximum handelt.\n",
        "\n",
        "c) Bestimmen sie das Taylor-Polynom zweiten Grades von $f$ mit Entwicklungspunkt $(x_0, y_0)=(1,2)$.\n"
      ],
      "metadata": {
        "id": "2hhCktaeLi4P"
      }
    },
    {
      "cell_type": "markdown",
      "source": [
        "**Aufgabe 5 (7 + 3 Punkte)**\n",
        "\n",
        "a) Bestimmen Sie mit der Methode der Lagrange-Multiplikatoren die Kandidaten für lokale Extrema der Funktion\n",
        "\n",
        "$f(x,y)=(3x+2y)x$\n",
        "\n",
        "unter der Nebenbedingung\n",
        "\n",
        "$2x^3+3x^2y=40$\n",
        "\n",
        "b) Berechnen Sie die Ableitung der Funktion $f$ entlang der implizit durch die Nebenbedingungen gegebenen Kurve $x \\mapsto (x,(y(x))$.\n"
      ],
      "metadata": {
        "id": "rZfP234iLic3"
      }
    },
    {
      "source": [
        "import sympy as sp\n",
        "\n",
        "# Define symbols\n",
        "x, y, l = sp.symbols('x y l')\n",
        "\n",
        "# Define the function and constraint\n",
        "f = (3*x + 2*y) * x\n",
        "g = 2*x**3 + 3*x**2*y - 40\n",
        "\n",
        "# Define the Lagrangian\n",
        "L = f - l * g\n",
        "\n",
        "# Calculate partial derivatives and set them to zero\n",
        "grad_L = [sp.diff(L, var) for var in [x, y, l]]\n",
        "stationary_points = sp.solve(grad_L, [x, y, l])\n",
        "\n",
        "# Print the candidate extrema\n",
        "print(f\"Candidate extrema: {stationary_points}\")\n",
        "\n",
        "# b) Derivative along the curve\n",
        "\n",
        "# Solve the constraint for y\n",
        "y_constraint = sp.solve(g, y)[0]\n",
        "\n",
        "# Substitute y_constraint into f\n",
        "f_constrained = f.subs(y, y_constraint)\n",
        "\n",
        "# Calculate the derivative of f_constrained with respect to x\n",
        "df_dx = sp.diff(f_constrained, x)\n",
        "\n",
        "# Print the derivative\n",
        "print(f\"Derivative of f along the curve: {df_dx}\")"
      ],
      "cell_type": "code",
      "metadata": {
        "id": "Y8fnvHQybDAa",
        "outputId": "ba73d81f-0e7a-4a0a-9ef5-16582c1bce6c",
        "colab": {
          "base_uri": "https://localhost:8080/"
        }
      },
      "execution_count": null,
      "outputs": [
        {
          "output_type": "stream",
          "name": "stdout",
          "text": [
            "Candidate extrema: [(2, 2, 1/3), (-1 + sqrt(3)*I, -1 + sqrt(3)*I, -1/6 - sqrt(3)*I/6), (-1 - sqrt(3)*I, -1 - sqrt(3)*I, -1/6 + sqrt(3)*I/6)]\n",
            "Derivative of f along the curve: x*(-1 - 8*(20 - x**3)/(3*x**3)) + 3*x + 4*(20 - x**3)/(3*x**2)\n"
          ]
        }
      ]
    },
    {
      "cell_type": "markdown",
      "source": [
        "**Aufgabe 6 (10  Punkte)**\n",
        "\n",
        "Berechnen Sie das Integral der Funktion $f(x,y)=2y/x$ über das Kreissegment $B$, das von der Kreislinie mit der Gleichung $(x-2)^2+y^2=4$ und der Geraden mit der Gleichung $x+2y=4$ begrenzt wird (siehe Abbildung 1)."
      ],
      "metadata": {
        "id": "nfBTBBDtLh9Y"
      }
    }
  ]
}