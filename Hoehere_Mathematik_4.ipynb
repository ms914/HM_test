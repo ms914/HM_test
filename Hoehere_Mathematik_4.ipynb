{
  "nbformat": 4,
  "nbformat_minor": 0,
  "metadata": {
    "colab": {
      "provenance": [],
      "authorship_tag": "ABX9TyP1kasmrXZmFvOyQZ8qWmsy",
      "include_colab_link": true
    },
    "kernelspec": {
      "name": "python3",
      "display_name": "Python 3"
    },
    "language_info": {
      "name": "python"
    }
  },
  "cells": [
    {
      "cell_type": "markdown",
      "metadata": {
        "id": "view-in-github",
        "colab_type": "text"
      },
      "source": [
        "<a href=\"https://colab.research.google.com/github/ms914/HM_test/blob/main/Hoehere_Mathematik_4.ipynb\" target=\"_parent\"><img src=\"https://colab.research.google.com/assets/colab-badge.svg\" alt=\"Open In Colab\"/></a>"
      ]
    },
    {
      "cell_type": "markdown",
      "source": [
        "Grafische Zusammenfassung\n",
        "\n",
        "Iterationsformel für Eigenwerte\n",
        "\n",
        "Trapez/Simpson\n",
        "\n",
        "Cholesky-Formeln\n",
        "\n",
        "Matrixform und Shape der Normalengleichungen\n",
        "\n",
        "Matrixform der Gauss-Newtoniteration, Graph Newtonverfahren"
      ],
      "metadata": {
        "id": "Mv9HAogC-EnD"
      }
    },
    {
      "cell_type": "markdown",
      "source": [
        "**Aufgabe 1 (10 Punkte)**\n",
        "Gegeben ist die Matrix $$A=\\begin{pmatrix} 2 & 1 \\\\ 1 & -1 \\end{pmatrix}$$\n",
        "\n",
        "a) Führen Sie zwei Iterationen des Vektoriterationsalgorithmus zur Approximation des betragsgrößten Eigenwertes von $A$ mit dem Startvektor $x_0=(1,1)^T$ durch.\n",
        "\n",
        "b) Führen Sie zwei Iterationen des Vektoriterationsalgorithmus zur Approximation des betragskleinsten Eigenwertes von $A$ mit dem Startvektor $x_0=(1,-1)^T$ durch."
      ],
      "metadata": {
        "id": "w-9dT1Y49XkQ"
      }
    },
    {
      "cell_type": "code",
      "source": [
        "from sympy import Matrix, Symbol, sqrt, Eq, solve, Rational, latex\n",
        "from sympy.abc import x\n",
        "\n",
        "# Matrix A and vectors\n",
        "A = Matrix([[2, 1], [1, -1]])\n",
        "x0_max = Matrix([1, 1])\n",
        "x0_min = Matrix([1, -1])\n",
        "\n",
        "# Max Eigenvalue Approximation\n",
        "x1_max = A * x0_max\n",
        "x1_max_normalized = x1_max / x1_max.norm()\n",
        "x2_max = A * x1_max_normalized\n",
        "x2_max_normalized = x2_max / x2_max.norm()\n",
        "eigenvalue_max = x2_max_normalized.dot(A * x2_max_normalized) / x2_max_normalized.dot(x2_max_normalized)\n",
        "\n",
        "# Min Eigenvalue Approximation\n",
        "x1_min = A * x0_min\n",
        "x1_min_normalized = x1_min / x1_min.norm()\n",
        "x2_min = A * x1_min_normalized\n",
        "x2_min_normalized = x2_min / x2_min.norm()\n",
        "eigenvalue_min = x2_min_normalized.dot(A * x2_min_normalized) / x2_min_normalized.dot(x2_min_normalized)\n",
        "\n",
        "from IPython.display import display, Math\n",
        "\n",
        "# Display results\n",
        "display(Math(r\"x_1^{max} =\" + latex(x1_max_normalized)))\n",
        "display(Math(r\"x_2^{max} =\" + latex (x2_max_normalized)))\n",
        "display(Math(r\"Approx. Max Eigenvalue: \"+latex (eigenvalue_max.evalf())))\n",
        "\n",
        "display(Math(r\"x_1^{min} = \" + latex(x1_min_normalized)))\n",
        "display(Math(r\"x_2^{min} = \" + latex(x2_min_normalized)))\n",
        "display(Math(r\"Approx. Min Eigenvalue: \"+ latex(eigenvalue_min.evalf())))\n"
      ],
      "metadata": {
        "id": "mxthKlepe1PZ",
        "outputId": "ac24ceae-961f-4e33-bcd1-7ae5f015ff77",
        "colab": {
          "base_uri": "https://localhost:8080/",
          "height": 253
        }
      },
      "execution_count": 17,
      "outputs": [
        {
          "output_type": "display_data",
          "data": {
            "text/plain": [
              "<IPython.core.display.Math object>"
            ],
            "text/latex": "$\\displaystyle x_1^{max} =\\left[\\begin{matrix}1\\\\0\\end{matrix}\\right]$"
          },
          "metadata": {}
        },
        {
          "output_type": "display_data",
          "data": {
            "text/plain": [
              "<IPython.core.display.Math object>"
            ],
            "text/latex": "$\\displaystyle x_2^{max} =\\left[\\begin{matrix}\\frac{2 \\sqrt{5}}{5}\\\\\\frac{\\sqrt{5}}{5}\\end{matrix}\\right]$"
          },
          "metadata": {}
        },
        {
          "output_type": "display_data",
          "data": {
            "text/plain": [
              "<IPython.core.display.Math object>"
            ],
            "text/latex": "$\\displaystyle Approx. Max Eigenvalue: 2.2$"
          },
          "metadata": {}
        },
        {
          "output_type": "display_data",
          "data": {
            "text/plain": [
              "<IPython.core.display.Math object>"
            ],
            "text/latex": "$\\displaystyle x_1^{min} = \\left[\\begin{matrix}\\frac{\\sqrt{5}}{5}\\\\\\frac{2 \\sqrt{5}}{5}\\end{matrix}\\right]$"
          },
          "metadata": {}
        },
        {
          "output_type": "display_data",
          "data": {
            "text/plain": [
              "<IPython.core.display.Math object>"
            ],
            "text/latex": "$\\displaystyle x_2^{min} = \\left[\\begin{matrix}\\frac{4 \\sqrt{17}}{17}\\\\- \\frac{\\sqrt{17}}{17}\\end{matrix}\\right]$"
          },
          "metadata": {}
        },
        {
          "output_type": "display_data",
          "data": {
            "text/plain": [
              "<IPython.core.display.Math object>"
            ],
            "text/latex": "$\\displaystyle Approx. Min Eigenvalue: 1.35294117647059$"
          },
          "metadata": {}
        }
      ]
    },
    {
      "cell_type": "markdown",
      "source": [
        "**Aufgabe 2 (10 Punkte)**\n",
        "\n",
        "Gegeben sind die Wertepaare\n",
        "\n",
        "$$\n",
        "\\begin{array}{ccc}\n",
        "i&0&1&2&3\\\\\n",
        "\\hline\n",
        "x_i&-1&0&1&2\\\\\n",
        "f_i&5&1&1&-1\n",
        "\\end{array}\n",
        "$$\n",
        "\n",
        "a) Berechnen Sie das Interpolationspolynom in der Newton-Basis\n",
        "\n",
        "b) Bestimmen Sie das Interpolationspolynom $p(x)$ in der Monom-Basis\n",
        "\n",
        "c) Approximieren Sie den Wert der Nullstelle von $p(x)$ im Intervall $[1,2]$ mit zwei Schritten des Bisektionsverfahrens\n",
        "\n",
        "d) Approximeren Sie das Integral $\\int_{-1}^1 p(x) dx$ mit der Simpson-Regel, wobei $p(x)$ das Polynom aus Aufgabenteil b) ist.\n"
      ],
      "metadata": {
        "id": "cz8U3fU_9XXQ"
      }
    },
    {
      "cell_type": "code",
      "source": [
        "import sympy as sp\n",
        "from IPython.display import display\n",
        "\n",
        "# Define symbols\n",
        "x = sp.Symbol('x')\n",
        "\n",
        "# Given data points\n",
        "x_values = [-1, 0, 1, 2]\n",
        "f_values = [5, 1, 1, -1]\n",
        "\n",
        "# a) Newton Interpolation Polynomial\n",
        "def newton_interpolation(x_values, f_values):\n",
        "    n = len(x_values)\n",
        "    divided_diffs = [f_values]\n",
        "\n",
        "    for j in range(1, n):\n",
        "        next_diff = []\n",
        "        for i in range(n - j):\n",
        "            diff = (divided_diffs[j - 1][i + 1] - divided_diffs[j - 1][i]) / (x_values[i + j] - x_values[i])\n",
        "            next_diff.append(diff)\n",
        "        divided_diffs.append(next_diff)\n",
        "\n",
        "    # Construct the Newton polynomial\n",
        "    newton_poly = divided_diffs[0][0]\n",
        "    term = 1\n",
        "    for j in range(1, n):\n",
        "        term *= (x - x_values[j - 1])\n",
        "        newton_poly += divided_diffs[j][0] * term\n",
        "\n",
        "    return newton_poly\n",
        "\n",
        "# Calculate Newton polynomial\n",
        "newton_poly = newton_interpolation(x_values, f_values)\n",
        "display(sp.Eq(sp.Symbol('p_newton'), newton_poly))\n",
        "\n",
        "# b) Convert to Monomial Basis\n",
        "monomial_poly = sp.simplify(sp.expand(newton_poly))\n",
        "display(sp.Eq(sp.Symbol('p_monomial'), monomial_poly))\n",
        "\n",
        "# c) Bisection Method to find root in [1,2]\n",
        "def bisection_method(func, a, b, steps):\n",
        "    for _ in range(steps):\n",
        "        c = (a + b) / 2\n",
        "        if func.subs(x, c) == 0:\n",
        "            return c\n",
        "        elif func.subs(x, a) * func.subs(x, c) < 0:\n",
        "            b = c\n",
        "        else:\n",
        "            a = c\n",
        "    return c\n",
        "\n",
        "# Use the bisection method to find the root\n",
        "root = bisection_method(monomial_poly, 1, 2, 2)\n",
        "display(sp.Eq('Root', root))\n",
        "\n",
        "# d) Simpson's Rule to approximate the integral\n",
        "def simpsons_rule(func, a, b, n):\n",
        "    h = (b - a) / n\n",
        "    integral = func.subs(x, a) + func.subs(x, b)\n",
        "    for i in range(1, n, 2):\n",
        "        integral += 4 * func.subs(x, a + i * h)\n",
        "    for i in range(2, n, 2):\n",
        "        integral += 2 * func.subs(x, a + i * h)\n",
        "    integral *= h / 3\n",
        "    return integral\n",
        "\n",
        "# Approximate integral using Simpson's rule\n",
        "integral_approx = simpsons_rule(monomial_poly, -1, 1, 4)\n",
        "display(sp.Eq('Integral Approximation', integral_approx))\n"
      ],
      "metadata": {
        "id": "SqFMovl7iEoJ",
        "outputId": "91bedfd3-03ff-44d5-aa92-668981fa1112",
        "colab": {
          "base_uri": "https://localhost:8080/",
          "height": 392
        }
      },
      "execution_count": 18,
      "outputs": [
        {
          "output_type": "display_data",
          "data": {
            "text/plain": [
              "Eq(p_newton, -1.0*x*(x - 1)*(x + 1) + 2.0*x*(x + 1) - 4.0*x + 1.0)"
            ],
            "text/latex": "$\\displaystyle p_{newton} = - 1.0 x \\left(x - 1\\right) \\left(x + 1\\right) + 2.0 x \\left(x + 1\\right) - 4.0 x + 1.0$"
          },
          "metadata": {}
        },
        {
          "output_type": "display_data",
          "data": {
            "text/plain": [
              "Eq(p_monomial, -1.0*x**3 + 2.0*x**2 - 1.0*x + 1.0)"
            ],
            "text/latex": "$\\displaystyle p_{monomial} = - 1.0 x^{3} + 2.0 x^{2} - 1.0 x + 1.0$"
          },
          "metadata": {}
        },
        {
          "output_type": "error",
          "ename": "SympifyError",
          "evalue": "SympifyError: 'Root'",
          "traceback": [
            "\u001b[0;31m---------------------------------------------------------------------------\u001b[0m",
            "\u001b[0;31mSympifyError\u001b[0m                              Traceback (most recent call last)",
            "\u001b[0;32m<ipython-input-18-d4ab4c039c0e>\u001b[0m in \u001b[0;36m<cell line: 54>\u001b[0;34m()\u001b[0m\n\u001b[1;32m     52\u001b[0m \u001b[0;31m# Use the bisection method to find the root\u001b[0m\u001b[0;34m\u001b[0m\u001b[0;34m\u001b[0m\u001b[0m\n\u001b[1;32m     53\u001b[0m \u001b[0mroot\u001b[0m \u001b[0;34m=\u001b[0m \u001b[0mbisection_method\u001b[0m\u001b[0;34m(\u001b[0m\u001b[0mmonomial_poly\u001b[0m\u001b[0;34m,\u001b[0m \u001b[0;36m1\u001b[0m\u001b[0;34m,\u001b[0m \u001b[0;36m2\u001b[0m\u001b[0;34m,\u001b[0m \u001b[0;36m2\u001b[0m\u001b[0;34m)\u001b[0m\u001b[0;34m\u001b[0m\u001b[0;34m\u001b[0m\u001b[0m\n\u001b[0;32m---> 54\u001b[0;31m \u001b[0mdisplay\u001b[0m\u001b[0;34m(\u001b[0m\u001b[0msp\u001b[0m\u001b[0;34m.\u001b[0m\u001b[0mEq\u001b[0m\u001b[0;34m(\u001b[0m\u001b[0;34m'Root'\u001b[0m\u001b[0;34m,\u001b[0m \u001b[0mroot\u001b[0m\u001b[0;34m)\u001b[0m\u001b[0;34m)\u001b[0m\u001b[0;34m\u001b[0m\u001b[0;34m\u001b[0m\u001b[0m\n\u001b[0m\u001b[1;32m     55\u001b[0m \u001b[0;34m\u001b[0m\u001b[0m\n\u001b[1;32m     56\u001b[0m \u001b[0;31m# d) Simpson's Rule to approximate the integral\u001b[0m\u001b[0;34m\u001b[0m\u001b[0;34m\u001b[0m\u001b[0m\n",
            "\u001b[0;32m/usr/local/lib/python3.10/dist-packages/sympy/core/relational.py\u001b[0m in \u001b[0;36m__new__\u001b[0;34m(cls, lhs, rhs, **options)\u001b[0m\n\u001b[1;32m    618\u001b[0m     \u001b[0;32mdef\u001b[0m \u001b[0m__new__\u001b[0m\u001b[0;34m(\u001b[0m\u001b[0mcls\u001b[0m\u001b[0;34m,\u001b[0m \u001b[0mlhs\u001b[0m\u001b[0;34m,\u001b[0m \u001b[0mrhs\u001b[0m\u001b[0;34m,\u001b[0m \u001b[0;34m**\u001b[0m\u001b[0moptions\u001b[0m\u001b[0;34m)\u001b[0m\u001b[0;34m:\u001b[0m\u001b[0;34m\u001b[0m\u001b[0;34m\u001b[0m\u001b[0m\n\u001b[1;32m    619\u001b[0m         \u001b[0mevaluate\u001b[0m \u001b[0;34m=\u001b[0m \u001b[0moptions\u001b[0m\u001b[0;34m.\u001b[0m\u001b[0mpop\u001b[0m\u001b[0;34m(\u001b[0m\u001b[0;34m'evaluate'\u001b[0m\u001b[0;34m,\u001b[0m \u001b[0mglobal_parameters\u001b[0m\u001b[0;34m.\u001b[0m\u001b[0mevaluate\u001b[0m\u001b[0;34m)\u001b[0m\u001b[0;34m\u001b[0m\u001b[0;34m\u001b[0m\u001b[0m\n\u001b[0;32m--> 620\u001b[0;31m         \u001b[0mlhs\u001b[0m \u001b[0;34m=\u001b[0m \u001b[0m_sympify\u001b[0m\u001b[0;34m(\u001b[0m\u001b[0mlhs\u001b[0m\u001b[0;34m)\u001b[0m\u001b[0;34m\u001b[0m\u001b[0;34m\u001b[0m\u001b[0m\n\u001b[0m\u001b[1;32m    621\u001b[0m         \u001b[0mrhs\u001b[0m \u001b[0;34m=\u001b[0m \u001b[0m_sympify\u001b[0m\u001b[0;34m(\u001b[0m\u001b[0mrhs\u001b[0m\u001b[0;34m)\u001b[0m\u001b[0;34m\u001b[0m\u001b[0;34m\u001b[0m\u001b[0m\n\u001b[1;32m    622\u001b[0m         \u001b[0;32mif\u001b[0m \u001b[0mevaluate\u001b[0m\u001b[0;34m:\u001b[0m\u001b[0;34m\u001b[0m\u001b[0;34m\u001b[0m\u001b[0m\n",
            "\u001b[0;32m/usr/local/lib/python3.10/dist-packages/sympy/core/sympify.py\u001b[0m in \u001b[0;36m_sympify\u001b[0;34m(a)\u001b[0m\n\u001b[1;32m    512\u001b[0m \u001b[0;34m\u001b[0m\u001b[0m\n\u001b[1;32m    513\u001b[0m     \"\"\"\n\u001b[0;32m--> 514\u001b[0;31m     \u001b[0;32mreturn\u001b[0m \u001b[0msympify\u001b[0m\u001b[0;34m(\u001b[0m\u001b[0ma\u001b[0m\u001b[0;34m,\u001b[0m \u001b[0mstrict\u001b[0m\u001b[0;34m=\u001b[0m\u001b[0;32mTrue\u001b[0m\u001b[0;34m)\u001b[0m\u001b[0;34m\u001b[0m\u001b[0;34m\u001b[0m\u001b[0m\n\u001b[0m\u001b[1;32m    515\u001b[0m \u001b[0;34m\u001b[0m\u001b[0m\n\u001b[1;32m    516\u001b[0m \u001b[0;34m\u001b[0m\u001b[0m\n",
            "\u001b[0;32m/usr/local/lib/python3.10/dist-packages/sympy/core/sympify.py\u001b[0m in \u001b[0;36msympify\u001b[0;34m(a, locals, convert_xor, strict, rational, evaluate)\u001b[0m\n\u001b[1;32m    452\u001b[0m \u001b[0;34m\u001b[0m\u001b[0m\n\u001b[1;32m    453\u001b[0m     \u001b[0;32mif\u001b[0m \u001b[0mstrict\u001b[0m\u001b[0;34m:\u001b[0m\u001b[0;34m\u001b[0m\u001b[0;34m\u001b[0m\u001b[0m\n\u001b[0;32m--> 454\u001b[0;31m         \u001b[0;32mraise\u001b[0m \u001b[0mSympifyError\u001b[0m\u001b[0;34m(\u001b[0m\u001b[0ma\u001b[0m\u001b[0;34m)\u001b[0m\u001b[0;34m\u001b[0m\u001b[0;34m\u001b[0m\u001b[0m\n\u001b[0m\u001b[1;32m    455\u001b[0m \u001b[0;34m\u001b[0m\u001b[0m\n\u001b[1;32m    456\u001b[0m     \u001b[0;32mif\u001b[0m \u001b[0miterable\u001b[0m\u001b[0;34m(\u001b[0m\u001b[0ma\u001b[0m\u001b[0;34m)\u001b[0m\u001b[0;34m:\u001b[0m\u001b[0;34m\u001b[0m\u001b[0;34m\u001b[0m\u001b[0m\n",
            "\u001b[0;31mSympifyError\u001b[0m: SympifyError: 'Root'"
          ]
        }
      ]
    },
    {
      "cell_type": "markdown",
      "source": [
        "**Aufgabe 3 (10 Punkte)**\n",
        "\n",
        "Gegeben seien die Messwerte\n",
        "\n",
        "$$\n",
        "\\begin{array}{ccc}\n",
        "x_i&-2&-1&0&1&2\\\\\n",
        "\\hline\n",
        "f_i&0&0&0&-1&1\n",
        "\\end{array}\n",
        "$$\n",
        "\n",
        "a) Die Messwerte sollen durch ein Polynom 2.ter Ordnung approximiert werden. Stellen Sie das zugehörige lineare Ausgleichsproblem und die Normalengleichungen auf.\n",
        "\n",
        "b) Lösen Sie das Gleichungssystem $Ax=b$ mit\n",
        "\n",
        "$A=\\begin{pmatrix} 5 & 0 & 10 \\\\ 0 & 10 & 0 \\\\ 10 & 0 & 34 \\end{pmatrix}$,\n",
        "\n",
        "$b=\\begin{pmatrix} 0  \\\\ 1  \\\\ 3 \\end{pmatrix}$\n",
        "\n",
        "mit Hilfe der Cholesky-Zerlegung.\n"
      ],
      "metadata": {
        "id": "fA29YhLH9XKF"
      }
    },
    {
      "cell_type": "markdown",
      "source": [
        "**Aufgabe 4 (10 Punkte)**\n",
        "\n",
        "Gegebn sind die folgenden drei Wertepaare $t_1,y_1)=(-1,2)$, $t_2,y_2)=(0,1)$, $t_3,y_3)=(1,0)$ und die Funktion $y=f(x_1, x_2, t)=(t+x_2)^2x_1$.\n",
        "\n",
        "a) Formulieren Sie ein nichtlineares Ausgleichsproblem, so dass die Funktion $f$ die Werte $y_i$ and den Stellen $t_i$ möglichst gut approximiert.\n",
        "\n",
        "b) Berechnen Sie den ersten Schritt des Gauß-Newton-Verfahrens für das Ausgleichsproblem von a) mit dem Startwert $x_1,x_2=(1,1)^T. Liefert der berechnete Wert eine Verbesserung für das Ausgleichsproblem im Vergleich zum Startwert?\n",
        "\n"
      ],
      "metadata": {
        "id": "QRK53Evx9W5o"
      }
    },
    {
      "cell_type": "code",
      "execution_count": null,
      "metadata": {
        "id": "BysBp0z4vnqS"
      },
      "outputs": [],
      "source": []
    }
  ]
}