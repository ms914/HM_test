{
  "nbformat": 4,
  "nbformat_minor": 0,
  "metadata": {
    "colab": {
      "provenance": [],
      "authorship_tag": "ABX9TyOzXxIGTXOj9MYZM9GlfAIV",
      "include_colab_link": true
    },
    "kernelspec": {
      "name": "python3",
      "display_name": "Python 3"
    },
    "language_info": {
      "name": "python"
    }
  },
  "cells": [
    {
      "cell_type": "markdown",
      "metadata": {
        "id": "view-in-github",
        "colab_type": "text"
      },
      "source": [
        "<a href=\"https://colab.research.google.com/github/ms914/HM_test/blob/main/Hoehere_Mathematik_4.ipynb\" target=\"_parent\"><img src=\"https://colab.research.google.com/assets/colab-badge.svg\" alt=\"Open In Colab\"/></a>"
      ]
    },
    {
      "cell_type": "markdown",
      "source": [
        "Grafische Zusammenfassung\n",
        "\n",
        "Iterationsformel für Eigenwerte\n",
        "\n",
        "Trapez/Simpson\n",
        "\n",
        "Cholesky-Formeln\n",
        "\n",
        "Matrixform und Shape der Normalengleichungen\n",
        "\n",
        "Matrixform der Gauss-Newtoniteration, Graph Newtonverfahren"
      ],
      "metadata": {
        "id": "Mv9HAogC-EnD"
      }
    },
    {
      "cell_type": "markdown",
      "source": [
        "**Aufgabe 1 (10 Punkte)**\n",
        "Gegeben ist die Matrix $$A=\\begin{pmatrix} 2 & 1 \\\\ 1 & -1 \\end{pmatrix}$$\n",
        "\n",
        "a) Führen Sie zwei Iterationen des Vektoriterationsalgorithmus zur Approximation des betragsgrößten Eigenwertes von $A$ mit dem Startvektor $x_0=(1,1)^T$ durch.\n",
        "\n",
        "b) Führen Sie zwei Iterationen des Vektoriterationsalgorithmus zur Approximation des betragskleinsten Eigenwertes von $A$ mit dem Startvektor $x_0=(1,-1)^T$ durch."
      ],
      "metadata": {
        "id": "w-9dT1Y49XkQ"
      }
    },
    {
      "cell_type": "markdown",
      "source": [
        "**Aufgabe 2 (10 Punkte)**\n",
        "\n",
        "Gegeben sind die Wertepaare\n",
        "\n",
        "$$\n",
        "\\begin{array}{ccc}\n",
        "i&0&1&2&3\\\\\n",
        "\\hline\n",
        "x_i&-1&0&1&2\\\\\n",
        "f_i&5&1&1&-1\n",
        "\\end{array}\n",
        "$$\n",
        "\n",
        "a) Berechnen Sie das Interpolationspolynom in der Newton-Basis\n",
        "\n",
        "b) Bestimmen Sie das Interpolationspolynom $p(x)$ in der Monom-Basis\n",
        "\n",
        "c) Approximieren Sie den Wert der Nullstelle von $p(x)$ im Intervall $[1,2]$ mit zwei Schritten des Bisektionsverfahrens\n",
        "\n",
        "d) Approximeren Sie das Integral $\\int_{-1}^1 p(x) dx$ mit der Simpson-Regel, wobei $p(x)$ das Polynom aus Aufgabenteil b) ist.\n"
      ],
      "metadata": {
        "id": "cz8U3fU_9XXQ"
      }
    },
    {
      "cell_type": "markdown",
      "source": [
        "**Aufgabe 3 (10 Punkte)**\n",
        "\n",
        "Gegeben seien die Messwerte\n",
        "\n",
        "$$\n",
        "\\begin{array}{ccc}\n",
        "x_i&-2&-1&0&1&2\\\\\n",
        "\\hline\n",
        "f_i&0&0&0&-1&1\n",
        "\\end{array}\n",
        "$$\n",
        "\n",
        "a) Die Messwerte sollen durch ein Polynom 2.ter Ordnung approximiert werden. Stellen Sie das zugehörige lineare Ausgleichsproblem und die Normalengleichungen auf.\n",
        "\n",
        "b) Lösen Sie das Gleichungssystem $Ax=b$ mit\n",
        "\n",
        "$A=\\begin{pmatrix} 5 & 0 & 10 \\\\ 0 & 10 & 0 \\\\ 10 & 0 & 34 \\end{pmatrix}$,\n",
        "\n",
        "$b=\\begin{pmatrix} 0  \\\\ 1  \\\\ 3 \\end{pmatrix}$\n",
        "\n",
        "mit Hilfe der Cholesky-Zerlegung.\n"
      ],
      "metadata": {
        "id": "fA29YhLH9XKF"
      }
    },
    {
      "cell_type": "markdown",
      "source": [
        "**Aufgabe 4 (10 Punkte)**\n",
        "\n",
        "Gegebn sind die folgenden drei Wertepaare $t_1,y_1)=(-1,2)$, $t_2,y_2)=(0,1)$, $t_3,y_3)=(1,0)$ und die Funktion $y=f(x_1, x_2, t)=(t+x_2)^2x_1$.\n",
        "\n",
        "a) Formulieren Sie ein nichtlineares Ausgleichsproblem, so dass die Funktion $f$ die Werte $y_i$ and den Stellen $t_i$ möglichst gut approximiert.\n",
        "\n",
        "b) Berechnen Sie den ersten Schritt des Gauß-Newton-Verfahrens für das Ausgleichsproblem von a) mit dem Startwert $x_1,x_2=(1,1)^T. Liefert der berechnete Wert eine Verbesserung für das Ausgleichsproblem im Vergleich zum Startwert?\n",
        "\n"
      ],
      "metadata": {
        "id": "QRK53Evx9W5o"
      }
    },
    {
      "cell_type": "code",
      "execution_count": null,
      "metadata": {
        "id": "BysBp0z4vnqS"
      },
      "outputs": [],
      "source": []
    }
  ]
}