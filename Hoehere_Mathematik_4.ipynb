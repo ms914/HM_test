{
  "nbformat": 4,
  "nbformat_minor": 0,
  "metadata": {
    "colab": {
      "provenance": [],
      "authorship_tag": "ABX9TyPKIqvlPmJi4xG2KrV8dUmB",
      "include_colab_link": true
    },
    "kernelspec": {
      "name": "python3",
      "display_name": "Python 3"
    },
    "language_info": {
      "name": "python"
    }
  },
  "cells": [
    {
      "cell_type": "markdown",
      "metadata": {
        "id": "view-in-github",
        "colab_type": "text"
      },
      "source": [
        "<a href=\"https://colab.research.google.com/github/ms914/HM_test/blob/main/Hoehere_Mathematik_4.ipynb\" target=\"_parent\"><img src=\"https://colab.research.google.com/assets/colab-badge.svg\" alt=\"Open In Colab\"/></a>"
      ]
    },
    {
      "cell_type": "markdown",
      "source": [
        "Grafische Zusammenfassung\n",
        "\n",
        "Iterationsformel für Eigenwerte\n",
        "\n",
        "Trapez/Simpson\n",
        "\n",
        "Cholesky-Formeln\n",
        "\n",
        "Matrixform und Shape der Normalengleichungen\n",
        "\n",
        "Matrixform der Gauss-Newtoniteration, Graph Newtonverfahren"
      ],
      "metadata": {
        "id": "Mv9HAogC-EnD"
      }
    },
    {
      "cell_type": "markdown",
      "source": [
        "**Aufgabe 1 (10 Punkte)**\n",
        "Gegeben ist die Matrix $$A=\\begin{pmatrix} 2 & 1 \\\\ 1 & -1 \\end{pmatrix}$$\n",
        "\n",
        "a) Führen Sie zwei Iterationen des Vektoriterationsalgorithmus zur Approximation des betragsgrößten Eigenwertes von $A$ mit dem Startvektor $x_0=(1,1)^T$ durch.\n",
        "\n",
        "b) Führen Sie zwei Iterationen des Vektoriterationsalgorithmus zur Approximation des betragskleinsten Eigenwertes von $A$ mit dem Startvektor $x_0=(1,-1)^T$ durch."
      ],
      "metadata": {
        "id": "w-9dT1Y49XkQ"
      }
    },
    {
      "cell_type": "code",
      "source": [
        "from sympy import Matrix, Symbol, sqrt, Eq, solve, Rational, latex\n",
        "from sympy.abc import x\n",
        "\n",
        "# Matrix A and vectors\n",
        "A = Matrix([[2, 1], [1, -1]])\n",
        "x0_max = Matrix([1, 1])\n",
        "x0_min = Matrix([1, -1])\n",
        "\n",
        "# Max Eigenvalue Approximation\n",
        "x1_max = A * x0_max\n",
        "x1_max_normalized = x1_max / x1_max.norm()\n",
        "x2_max = A * x1_max_normalized\n",
        "x2_max_normalized = x2_max / x2_max.norm()\n",
        "eigenvalue_max = x2_max_normalized.dot(A * x2_max_normalized) / x2_max_normalized.dot(x2_max_normalized)\n",
        "\n",
        "# Min Eigenvalue Approximation\n",
        "x1_min = A * x0_min\n",
        "x1_min_normalized = x1_min / x1_min.norm()\n",
        "x2_min = A * x1_min_normalized\n",
        "x2_min_normalized = x2_min / x2_min.norm()\n",
        "eigenvalue_min = x2_min_normalized.dot(A * x2_min_normalized) / x2_min_normalized.dot(x2_min_normalized)\n",
        "\n",
        "from IPython.display import display, Math\n",
        "\n",
        "# Display results\n",
        "display(Math(r\"x_1^{max} =\" + latex(x1_max_normalized)))\n",
        "display(Math(r\"x_2^{max} =\" + latex (x2_max_normalized)))\n",
        "display(Math(r\"Approx. Max Eigenvalue: \"+latex (eigenvalue_max.evalf())))\n",
        "\n",
        "display(Math(r\"x_1^{min} = \" + latex(x1_min_normalized)))\n",
        "display(Math(r\"x_2^{min} = \" + latex(x2_min_normalized)))\n",
        "display(Math(r\"Approx. Min Eigenvalue: \"+ latex(eigenvalue_min.evalf())))\n"
      ],
      "metadata": {
        "colab": {
          "base_uri": "https://localhost:8080/",
          "height": 253
        },
        "id": "mxthKlepe1PZ",
        "outputId": "ac24ceae-961f-4e33-bcd1-7ae5f015ff77"
      },
      "execution_count": 17,
      "outputs": [
        {
          "output_type": "display_data",
          "data": {
            "text/plain": [
              "<IPython.core.display.Math object>"
            ],
            "text/latex": "$\\displaystyle x_1^{max} =\\left[\\begin{matrix}1\\\\0\\end{matrix}\\right]$"
          },
          "metadata": {}
        },
        {
          "output_type": "display_data",
          "data": {
            "text/plain": [
              "<IPython.core.display.Math object>"
            ],
            "text/latex": "$\\displaystyle x_2^{max} =\\left[\\begin{matrix}\\frac{2 \\sqrt{5}}{5}\\\\\\frac{\\sqrt{5}}{5}\\end{matrix}\\right]$"
          },
          "metadata": {}
        },
        {
          "output_type": "display_data",
          "data": {
            "text/plain": [
              "<IPython.core.display.Math object>"
            ],
            "text/latex": "$\\displaystyle Approx. Max Eigenvalue: 2.2$"
          },
          "metadata": {}
        },
        {
          "output_type": "display_data",
          "data": {
            "text/plain": [
              "<IPython.core.display.Math object>"
            ],
            "text/latex": "$\\displaystyle x_1^{min} = \\left[\\begin{matrix}\\frac{\\sqrt{5}}{5}\\\\\\frac{2 \\sqrt{5}}{5}\\end{matrix}\\right]$"
          },
          "metadata": {}
        },
        {
          "output_type": "display_data",
          "data": {
            "text/plain": [
              "<IPython.core.display.Math object>"
            ],
            "text/latex": "$\\displaystyle x_2^{min} = \\left[\\begin{matrix}\\frac{4 \\sqrt{17}}{17}\\\\- \\frac{\\sqrt{17}}{17}\\end{matrix}\\right]$"
          },
          "metadata": {}
        },
        {
          "output_type": "display_data",
          "data": {
            "text/plain": [
              "<IPython.core.display.Math object>"
            ],
            "text/latex": "$\\displaystyle Approx. Min Eigenvalue: 1.35294117647059$"
          },
          "metadata": {}
        }
      ]
    },
    {
      "cell_type": "markdown",
      "source": [
        "**Aufgabe 2 (10 Punkte)**\n",
        "\n",
        "Gegeben sind die Wertepaare\n",
        "\n",
        "$$\n",
        "\\begin{array}{ccc}\n",
        "i&0&1&2&3\\\\\n",
        "\\hline\n",
        "x_i&-1&0&1&2\\\\\n",
        "f_i&5&1&1&-1\n",
        "\\end{array}\n",
        "$$\n",
        "\n",
        "a) Berechnen Sie das Interpolationspolynom in der Newton-Basis\n",
        "\n",
        "b) Bestimmen Sie das Interpolationspolynom $p(x)$ in der Monom-Basis\n",
        "\n",
        "c) Approximieren Sie den Wert der Nullstelle von $p(x)$ im Intervall $[1,2]$ mit zwei Schritten des Bisektionsverfahrens\n",
        "\n",
        "d) Approximeren Sie das Integral $\\int_{-1}^1 p(x) dx$ mit der Simpson-Regel, wobei $p(x)$ das Polynom aus Aufgabenteil b) ist.\n"
      ],
      "metadata": {
        "id": "cz8U3fU_9XXQ"
      }
    },
    {
      "cell_type": "code",
      "source": [
        "import sympy as sp\n",
        "from IPython.display import display\n",
        "\n",
        "# Define symbols\n",
        "x = sp.Symbol('x')\n",
        "\n",
        "# Given data points\n",
        "x_values = [-1, 0, 1, 2]\n",
        "f_values = [5, 1, 1, -1]\n",
        "\n",
        "# a) Newton Interpolation Polynomial\n",
        "def newton_interpolation(x_values, f_values):\n",
        "    n = len(x_values)\n",
        "    divided_diffs = [f_values]\n",
        "\n",
        "    for j in range(1, n):\n",
        "        next_diff = []\n",
        "        for i in range(n - j):\n",
        "            diff = (divided_diffs[j - 1][i + 1] - divided_diffs[j - 1][i]) / (x_values[i + j] - x_values[i])\n",
        "            next_diff.append(diff)\n",
        "        divided_diffs.append(next_diff)\n",
        "\n",
        "    # Construct the Newton polynomial\n",
        "    newton_poly = divided_diffs[0][0]\n",
        "    term = 1\n",
        "    for j in range(1, n):\n",
        "        term *= (x - x_values[j - 1])\n",
        "        newton_poly += divided_diffs[j][0] * term\n",
        "\n",
        "    return newton_poly\n",
        "\n",
        "# Calculate Newton polynomial\n",
        "newton_poly = newton_interpolation(x_values, f_values)\n",
        "display(sp.Eq(sp.Symbol('p_newton'), newton_poly))\n",
        "\n",
        "# b) Convert to Monomial Basis\n",
        "monomial_poly = sp.simplify(sp.expand(newton_poly))\n",
        "display(sp.Eq(sp.Symbol('p_monomial'), monomial_poly))\n",
        "\n",
        "# c) Bisection Method to find root in [1,2]\n",
        "def bisection_method(func, a, b, steps):\n",
        "    for _ in range(steps):\n",
        "        c = (a + b) / 2\n",
        "        if func.subs(x, c) == 0:\n",
        "            return c\n",
        "        elif func.subs(x, a) * func.subs(x, c) < 0:\n",
        "            b = c\n",
        "        else:\n",
        "            a = c\n",
        "    return c\n",
        "\n",
        "# Use the bisection method to find the root\n",
        "root = bisection_method(monomial_poly, 1, 2, 2)\n",
        "display(root)\n",
        "\n",
        "# d) Simpson's Rule to approximate the integral\n",
        "def simpsons_rule(func, a, b, n):\n",
        "    h = (b - a) / n\n",
        "    integral = func.subs(x, a) + func.subs(x, b)\n",
        "    for i in range(1, n, 2):\n",
        "        integral += 4 * func.subs(x, a + i * h)\n",
        "    for i in range(2, n, 2):\n",
        "        integral += 2 * func.subs(x, a + i * h)\n",
        "    integral *= h / 3\n",
        "    return integral\n",
        "\n",
        "# Approximate integral using Simpson's rule\n",
        "integral_approx = simpsons_rule(monomial_poly, -1, 1, 4)\n",
        "display(Math(r'IntegralApproximation: '+latex(integral_approx)))\n"
      ],
      "metadata": {
        "colab": {
          "base_uri": "https://localhost:8080/",
          "height": 97
        },
        "id": "SqFMovl7iEoJ",
        "outputId": "8a1a11d8-3330-441b-e5ca-25a276f586f5"
      },
      "execution_count": 30,
      "outputs": [
        {
          "output_type": "display_data",
          "data": {
            "text/plain": [
              "Eq(p_newton, -1.0*x*(x - 1)*(x + 1) + 2.0*x*(x + 1) - 4.0*x + 1.0)"
            ],
            "text/latex": "$\\displaystyle p_{newton} = - 1.0 x \\left(x - 1\\right) \\left(x + 1\\right) + 2.0 x \\left(x + 1\\right) - 4.0 x + 1.0$"
          },
          "metadata": {}
        },
        {
          "output_type": "display_data",
          "data": {
            "text/plain": [
              "Eq(p_monomial, -1.0*x**3 + 2.0*x**2 - 1.0*x + 1.0)"
            ],
            "text/latex": "$\\displaystyle p_{monomial} = - 1.0 x^{3} + 2.0 x^{2} - 1.0 x + 1.0$"
          },
          "metadata": {}
        },
        {
          "output_type": "display_data",
          "data": {
            "text/plain": [
              "1.75"
            ]
          },
          "metadata": {}
        },
        {
          "output_type": "display_data",
          "data": {
            "text/plain": [
              "<IPython.core.display.Math object>"
            ],
            "text/latex": "$\\displaystyle IntegralApproximation: 3.33333333333333$"
          },
          "metadata": {}
        }
      ]
    },
    {
      "cell_type": "markdown",
      "source": [
        "**Aufgabe 3 (10 Punkte)**\n",
        "\n",
        "Gegeben seien die Messwerte\n",
        "\n",
        "$$\n",
        "\\begin{array}{ccc}\n",
        "x_i&-2&-1&0&1&2\\\\\n",
        "\\hline\n",
        "f_i&0&0&0&-1&1\n",
        "\\end{array}\n",
        "$$\n",
        "\n",
        "a) Die Messwerte sollen durch ein Polynom 2.ter Ordnung approximiert werden. Stellen Sie das zugehörige lineare Ausgleichsproblem und die Normalengleichungen auf.\n",
        "\n",
        "b) Lösen Sie das Gleichungssystem $Ax=b$ mit\n",
        "\n",
        "$A=\\begin{pmatrix} 5 & 0 & 10 \\\\ 0 & 10 & 0 \\\\ 10 & 0 & 34 \\end{pmatrix}$,\n",
        "\n",
        "$b=\\begin{pmatrix} 0  \\\\ 1  \\\\ 3 \\end{pmatrix}$\n",
        "\n",
        "mit Hilfe der Cholesky-Zerlegung.\n"
      ],
      "metadata": {
        "id": "fA29YhLH9XKF"
      }
    },
    {
      "cell_type": "code",
      "source": [
        "import sympy as sp\n",
        "from sympy import Matrix\n",
        "from IPython.display import display, Markdown\n",
        "\n",
        "# Define the variables and the system\n",
        "x = sp.symbols('x')\n",
        "a, b, c = sp.symbols('a b c')  # Coefficients of the polynomial\n",
        "\n",
        "# Define the polynomial function\n",
        "poly = a*x**2 + b*x + c\n",
        "\n",
        "# Given data points\n",
        "x_vals = [-2, -1, 0, 1, 2]\n",
        "f_vals = [0, 0, 0, -1, 1]\n",
        "\n",
        "# Set up the equations\n",
        "A = Matrix([[x_i**2, x_i, 1] for x_i in x_vals])\n",
        "b_vector = Matrix(f_vals)\n",
        "\n",
        "# Construct the normal equations A^T*A * [a, b, c]^T = A^T*b\n",
        "ATA = A.T * A\n",
        "ATb = A.T * b_vector\n",
        "\n",
        "# Solve for the coefficients (a, b, c)\n",
        "coefficients = sp.linsolve((ATA, ATb), a, b, c)\n",
        "display(Markdown(\"### Part (a): Polynomial Coefficients\"))\n",
        "display(coefficients)\n",
        "\n",
        "# Define A and b for the second part\n",
        "A_matrix = Matrix([[5, 0, 10], [0, 10, 0], [10, 0, 34]])\n",
        "b_vector = Matrix([0, 1, 3])\n",
        "\n",
        "# Perform Cholesky decomposition\n",
        "L = A_matrix.cholesky()\n",
        "L_inv = L.inv()\n",
        "\n",
        "# Solve the system\n",
        "y = L_inv * b_vector\n",
        "x_solution = L_inv.T * y\n",
        "\n",
        "# Display the results\n",
        "display(Markdown(\"### Part (b): Solution of Ax = b using Cholesky Decomposition\"))\n",
        "display(x_solution)\n"
      ],
      "metadata": {
        "id": "uiac-qSAyCTO",
        "outputId": "f840ac11-1c30-4cb1-fd1b-750f7ed7659a",
        "colab": {
          "base_uri": "https://localhost:8080/",
          "height": 198
        }
      },
      "execution_count": 31,
      "outputs": [
        {
          "output_type": "display_data",
          "data": {
            "text/plain": [
              "<IPython.core.display.Markdown object>"
            ],
            "text/markdown": "### Part (a): Polynomial Coefficients"
          },
          "metadata": {}
        },
        {
          "output_type": "display_data",
          "data": {
            "text/plain": [
              "{(3/14, 1/10, -3/7)}"
            ],
            "text/latex": "$\\displaystyle \\left\\{\\left( \\frac{3}{14}, \\  \\frac{1}{10}, \\  - \\frac{3}{7}\\right)\\right\\}$"
          },
          "metadata": {}
        },
        {
          "output_type": "display_data",
          "data": {
            "text/plain": [
              "<IPython.core.display.Markdown object>"
            ],
            "text/markdown": "### Part (b): Solution of Ax = b using Cholesky Decomposition"
          },
          "metadata": {}
        },
        {
          "output_type": "display_data",
          "data": {
            "text/plain": [
              "Matrix([\n",
              "[-3/7],\n",
              "[1/10],\n",
              "[3/14]])"
            ],
            "text/latex": "$\\displaystyle \\left[\\begin{matrix}- \\frac{3}{7}\\\\\\frac{1}{10}\\\\\\frac{3}{14}\\end{matrix}\\right]$"
          },
          "metadata": {}
        }
      ]
    },
    {
      "cell_type": "code",
      "source": [
        "import sympy as sp\n",
        "from IPython.display import display, Markdown\n",
        "\n",
        "# Define the matrix A\n",
        "A_matrix = Matrix([[5, 0, 10], [0, 10, 0], [10, 0, 34]])\n",
        "\n",
        "# Calculate individual elements of L\n",
        "l11 = sp.sqrt(A_matrix[0, 0])\n",
        "l21 = A_matrix[1, 0] / l11\n",
        "l22 = sp.sqrt(A_matrix[1, 1] - l21**2)\n",
        "l31 = A_matrix[2, 0] / l11\n",
        "l32 = (A_matrix[2, 1] - l31 * l21) / l22\n",
        "l33 = sp.sqrt(A_matrix[2, 2] - l31**2 - l32**2)\n",
        "\n",
        "# Construct the L matrix\n",
        "L_matrix = Matrix([[l11, 0, 0], [l21, l22, 0], [l31, l32, l33]])\n",
        "\n",
        "# Display the results\n",
        "display(Markdown(\"### Cholesky Decomposition Matrix L\"))\n",
        "display(L_matrix)\n"
      ],
      "metadata": {
        "id": "lqgeWZEFymNk",
        "outputId": "665e6c33-991a-46a6-aa92-3f09168d1c25",
        "colab": {
          "base_uri": "https://localhost:8080/",
          "height": 120
        }
      },
      "execution_count": 33,
      "outputs": [
        {
          "output_type": "display_data",
          "data": {
            "text/plain": [
              "<IPython.core.display.Markdown object>"
            ],
            "text/markdown": "### Cholesky Decomposition Matrix L"
          },
          "metadata": {}
        },
        {
          "output_type": "display_data",
          "data": {
            "text/plain": [
              "Matrix([\n",
              "[  sqrt(5),        0,        0],\n",
              "[        0, sqrt(10),        0],\n",
              "[2*sqrt(5),        0, sqrt(14)]])"
            ],
            "text/latex": "$\\displaystyle \\left[\\begin{matrix}\\sqrt{5} & 0 & 0\\\\0 & \\sqrt{10} & 0\\\\2 \\sqrt{5} & 0 & \\sqrt{14}\\end{matrix}\\right]$"
          },
          "metadata": {}
        }
      ]
    },
    {
      "cell_type": "markdown",
      "source": [
        "**Aufgabe 4 (10 Punkte)**\n",
        "\n",
        "Gegebn sind die folgenden drei Wertepaare $t_1,y_1)=(-1,2)$, $t_2,y_2)=(0,1)$, $t_3,y_3)=(1,0)$ und die Funktion $y=f(x_1, x_2, t)=(t+x_2)^2x_1$.\n",
        "\n",
        "a) Formulieren Sie ein nichtlineares Ausgleichsproblem, so dass die Funktion $f$ die Werte $y_i$ and den Stellen $t_i$ möglichst gut approximiert.\n",
        "\n",
        "b) Berechnen Sie den ersten Schritt des Gauß-Newton-Verfahrens für das Ausgleichsproblem von a) mit dem Startwert $x_1,x_2=(1,1)^T. Liefert der berechnete Wert eine Verbesserung für das Ausgleichsproblem im Vergleich zum Startwert?\n",
        "\n"
      ],
      "metadata": {
        "id": "QRK53Evx9W5o"
      }
    },
    {
      "cell_type": "code",
      "execution_count": null,
      "metadata": {
        "id": "BysBp0z4vnqS"
      },
      "outputs": [],
      "source": []
    }
  ]
}