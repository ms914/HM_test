{
  "nbformat": 4,
  "nbformat_minor": 0,
  "metadata": {
    "colab": {
      "provenance": [],
      "authorship_tag": "ABX9TyOBjFEQKmlJsviSt3yI8neQ",
      "include_colab_link": true
    },
    "kernelspec": {
      "name": "python3",
      "display_name": "Python 3"
    },
    "language_info": {
      "name": "python"
    }
  },
  "cells": [
    {
      "cell_type": "markdown",
      "metadata": {
        "id": "view-in-github",
        "colab_type": "text"
      },
      "source": [
        "<a href=\"https://colab.research.google.com/github/ms914/HM_test/blob/main/Hoehere_Mathematik_1.ipynb\" target=\"_parent\"><img src=\"https://colab.research.google.com/assets/colab-badge.svg\" alt=\"Open In Colab\"/></a>"
      ]
    },
    {
      "cell_type": "markdown",
      "source": [
        "- create using matex\n",
        "- create using prompts\n",
        "- assert using sympy"
      ],
      "metadata": {
        "id": "goae4Xq-jjSG"
      }
    },
    {
      "cell_type": "markdown",
      "source": [
        "HM1\n",
        "\n",
        "**Aufgabe 1 (7 Punkte).**\n",
        "\n",
        "Bestimmen Sie alle $x \\in ℝ $ für die die Reihe\n",
        "\n",
        "$$\\sum_{n=1}^{\\infty} \\frac{1}{n 3^n} {(x-1)^n}$$\n",
        "\n",
        "konvergiert.\n",
        "\n",
        "**Aufgabe 2 (14 Punkte).** Gegeben sei die Funktion\n",
        "\n",
        "$$f(x)=\\frac{1}{x^2(x-3)}$$\n",
        "\n",
        "Geben Sie den maximalen Definitionsbereich von $f$ an. Untersuchen Sie die Funktion auf Nullstellen, Extrema (inklusive Klassifizierung und Funktionswert), Monotonieverhalten und Verhalten an den Rändern des Definitionsbereichs. Skizzieren Sie die Funktion auf dem Intervall $[-2,5]$.\n",
        "\n",
        "**Aufgabe 3 (5+5 Punkte).**\n",
        "a) Stellen Sie\n",
        "\n",
        "$$\\frac{(\\sqrt{2} + i \\sqrt{2})^3}{(2 e^{i \\pi/3})^6}$$\n",
        "\n",
        "\n",
        "in Polarform dar.\n",
        "\n",
        "b) Bestimmen Sie alle komplexen Lösungen der Gleichung\n",
        "\n",
        "$$ z^6 - (\\sqrt2 + \\sqrt2 i) z^2 = 0 $$\n",
        "\n",
        "Geben Sie die Lösungen dabei in Polarform an.\n",
        "\n",
        "**Aufgabe 4 (6+4 Punkte)**\n",
        "\n",
        "a) Bestimmen Sie das Taylorpolynom dritter Ordnung der Funktion\n",
        "\n",
        "$$ g(x)=x^2ln (x) $$\n",
        "\n",
        "im Entwicklungspunkt $x=e$\n",
        "\n",
        "b) Schätzen Sie mit Hilfe der Restgliedformel den Fehler auf dem Intervall $[e,2e]$ ab.\n",
        "\n",
        "**Aufgabe 5 (7+2 Punkte).**\n",
        "\n",
        "Gegeben sei die Funktion\n",
        "\n",
        "$$h(x)=\\frac{x^2+4x-3}{x^3-3x-2}. $$\n",
        "\n",
        "a) Berechnen Sie die Partialbruchzerlegung von $h(x)$.\n",
        "\n",
        "b) Bestimmen Sie eine Stammfunktion von $h(x)$.\n",
        "\n",
        "**Aufgabe 6 (4+6 Punkte).**\n",
        "\n",
        "a) Berechnen Sie den Grenzwert\n",
        "\n",
        "$$\\lim_{y->1}\\sqrt{1-y^2}ln(\\sqrt{1-y^2}). $$\n",
        "\n",
        "b) Berechnen Sie für $y\\in (0,1)$ das Integral\n",
        "\n",
        "$$ I(y)=\\int_0^yln(\\sqrt{1-x^2})\\frac{x}{\\sqrt{1-x^2}}dx .$$\n",
        "\n",
        "*Hinweis: Für $x>0$ gilt: $xln(x)'=ln(x)$*\n",
        "\n"
      ],
      "metadata": {
        "id": "yBla5qwea8Tj"
      }
    },
    {
      "cell_type": "code",
      "execution_count": null,
      "metadata": {
        "id": "p8aS-Y-pgK8K",
        "outputId": "69555236-7da3-4f37-e1d0-c67a4beb189b",
        "colab": {
          "base_uri": "https://localhost:8080/",
          "height": 105
        }
      },
      "outputs": [
        {
          "output_type": "error",
          "ename": "SyntaxError",
          "evalue": "invalid syntax (<ipython-input-1-af3f000d855e>, line 1)",
          "traceback": [
            "\u001b[0;36m  File \u001b[0;32m\"<ipython-input-1-af3f000d855e>\"\u001b[0;36m, line \u001b[0;32m1\u001b[0m\n\u001b[0;31m    give sympy code for calcultion of pi to 10 digits\u001b[0m\n\u001b[0m         ^\u001b[0m\n\u001b[0;31mSyntaxError\u001b[0m\u001b[0;31m:\u001b[0m invalid syntax\n"
          ]
        }
      ],
      "source": []
    }
  ]
}