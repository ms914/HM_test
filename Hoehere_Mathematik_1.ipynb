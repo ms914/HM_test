{
  "nbformat": 4,
  "nbformat_minor": 0,
  "metadata": {
    "colab": {
      "provenance": [],
      "authorship_tag": "ABX9TyOjY4jCLqzsFA4uKeJ76ls4",
      "include_colab_link": true
    },
    "kernelspec": {
      "name": "python3",
      "display_name": "Python 3"
    },
    "language_info": {
      "name": "python"
    }
  },
  "cells": [
    {
      "cell_type": "markdown",
      "metadata": {
        "id": "view-in-github",
        "colab_type": "text"
      },
      "source": [
        "<a href=\"https://colab.research.google.com/github/ms914/HM_test/blob/main/Hoehere_Mathematik_1.ipynb\" target=\"_parent\"><img src=\"https://colab.research.google.com/assets/colab-badge.svg\" alt=\"Open In Colab\"/></a>"
      ]
    },
    {
      "cell_type": "markdown",
      "source": [
        "1) show how it cancels the powers\n",
        "2) plot\n",
        "3) plot roots\n",
        "4) plot function and all 4 derivatives around e\n",
        "5) rational function poles; int 1/x -> ln(x)\n",
        "6) plot\n"
      ],
      "metadata": {
        "id": "8KQLjGH2ZAIT"
      }
    },
    {
      "cell_type": "markdown",
      "source": [
        "HM1\n",
        "\n",
        "**Aufgabe 1 (7 Punkte).**\n",
        "\n",
        "Bestimmen Sie alle $x \\in ℝ $ für die die Reihe\n",
        "\n",
        "$$\\sum_{n=1}^{\\infty} \\frac{1}{n 3^n} {(x-1)^n}$$\n",
        "\n",
        "konvergiert.\n",
        "\n",
        "[MaTex](https://matex.mint-kolleg.kit.edu/MATeX/browse.php)\n",
        "\n",
        "[chatGPT](https://chatgpt.com/share/d4923659-e203-45cb-ba20-153fb533f09a)"
      ],
      "metadata": {
        "id": "yBla5qwea8Tj"
      }
    },
    {
      "cell_type": "code",
      "execution_count": null,
      "metadata": {
        "id": "p8aS-Y-pgK8K",
        "colab": {
          "base_uri": "https://localhost:8080/",
          "height": 306
        },
        "outputId": "faa10d09-3078-4dcf-b62d-da9ccf72d023"
      },
      "outputs": [
        {
          "output_type": "display_data",
          "data": {
            "text/plain": [
              "<IPython.core.display.Math object>"
            ],
            "text/latex": "$\\displaystyle a_n = \\frac{1}{n \\cdot 3^n}$"
          },
          "metadata": {}
        },
        {
          "output_type": "display_data",
          "data": {
            "text/plain": [
              "<IPython.core.display.Math object>"
            ],
            "text/latex": "$\\displaystyle a_{n+1} = \\frac{1}{(n+1) \\cdot 3^{n+1}}$"
          },
          "metadata": {}
        },
        {
          "output_type": "display_data",
          "data": {
            "text/plain": [
              "<IPython.core.display.Math object>"
            ],
            "text/latex": "$\\displaystyle \\frac{a_{n+1}}{a_n} = \\frac{\\frac{1}{(n+1) \\cdot 3^{n+1}}}{\\frac{1}{n \\cdot 3^n}} = \\frac{n}{(n+1)} \\cdot \\frac{1}{3}$"
          },
          "metadata": {}
        },
        {
          "output_type": "display_data",
          "data": {
            "text/plain": [
              "<IPython.core.display.Math object>"
            ],
            "text/latex": "$\\displaystyle \\lim_{{n \\to \\infty}} \\frac{n}{n+1} \\cdot \\frac{1}{3} = \\frac{1}{3}$"
          },
          "metadata": {}
        },
        {
          "output_type": "display_data",
          "data": {
            "text/plain": [
              "<IPython.core.display.Math object>"
            ],
            "text/latex": "$\\displaystyle R = \\frac{1}{\\frac{1}{3}} = 3$"
          },
          "metadata": {}
        },
        {
          "output_type": "display_data",
          "data": {
            "text/plain": [
              "<IPython.core.display.Math object>"
            ],
            "text/latex": "$\\displaystyle \\text{Verhältnis: } \\frac{a_{n+1}}{a_n} = \\frac{n}{3 \\left(n + 1\\right)}$"
          },
          "metadata": {}
        },
        {
          "output_type": "display_data",
          "data": {
            "text/plain": [
              "<IPython.core.display.Math object>"
            ],
            "text/latex": "$\\displaystyle \\text{Limes: } \\lim_{{n \\to \\infty}} \\frac{a_{n+1}}{a_n} = \\frac{1}{3}$"
          },
          "metadata": {}
        },
        {
          "output_type": "display_data",
          "data": {
            "text/plain": [
              "<IPython.core.display.Math object>"
            ],
            "text/latex": "$\\displaystyle \\text{Konvergenzradius: } R = 3$"
          },
          "metadata": {}
        }
      ],
      "source": [
        "import sympy as sp\n",
        "from sympy import init_printing\n",
        "from IPython.display import display, Math\n",
        "\n",
        "# Für die Ausgabe in LaTeX in Colab\n",
        "init_printing()\n",
        "\n",
        "# Schritt 1: Definiere die Variable n und den Term a_n\n",
        "n = sp.symbols('n', integer=True)\n",
        "x = sp.symbols('x')\n",
        "\n",
        "# Definiere den Term a_n = 1 / (n * 3^n)\n",
        "a_n = 1 / (n * 3**n)\n",
        "\n",
        "# Display der Definition von a_n\n",
        "display(Math(r'a_n = \\frac{1}{n \\cdot 3^n}'))\n",
        "\n",
        "# Schritt 2: Wende den Quotiententest an\n",
        "# Berechne das Verhältnis a_{n+1} / a_n\n",
        "# a_{n+1} = 1 / ((n+1) * 3^(n+1)) -> Zähler und Nenner für n+1 einsetzen\n",
        "display(Math(r'a_{n+1} = \\frac{1}{(n+1) \\cdot 3^{n+1}}'))\n",
        "\n",
        "# Das Verhältnis a_{n+1} / a_n wird zu:\n",
        "ratio = sp.simplify(a_n.subs(n, n+1) / a_n)\n",
        "\n",
        "# Berechne die Kürzung\n",
        "# Kürzen der gemeinsamen Terme (3^n):\n",
        "display(Math(r'\\frac{a_{n+1}}{a_n} = \\frac{\\frac{1}{(n+1) \\cdot 3^{n+1}}}{\\frac{1}{n \\cdot 3^n}} = \\frac{n}{(n+1)} \\cdot \\frac{1}{3}'))\n",
        "\n",
        "# Schritt 3: Berechne den Limes des Verhältnisses, wenn n gegen unendlich geht\n",
        "limit_ratio = sp.limit(ratio, n, sp.oo)\n",
        "\n",
        "# Display des Limes\n",
        "display(Math(r'\\lim_{{n \\to \\infty}} \\frac{n}{n+1} \\cdot \\frac{1}{3} = \\frac{1}{3}'))\n",
        "\n",
        "# Schritt 4: Der Konvergenzradius ist der Kehrwert dieses Limes\n",
        "radius_of_convergence = 1 / limit_ratio\n",
        "\n",
        "# Display des Konvergenzradius\n",
        "display(Math(r'R = \\frac{1}{\\frac{1}{3}} = 3'))\n",
        "\n",
        "# Ergebnisse anzeigen\n",
        "# Verwende nur ein Math-Objekt für jeden LaTeX-Ausdruck\n",
        "display(Math(r'\\text{Verhältnis: } \\frac{a_{n+1}}{a_n} = ' + sp.latex(ratio)))\n",
        "display(Math(r'\\text{Limes: } \\lim_{{n \\to \\infty}} \\frac{a_{n+1}}{a_n} = ' + sp.latex(limit_ratio)))\n",
        "display(Math(r'\\text{Konvergenzradius: } R = ' + sp.latex(radius_of_convergence)))\n"
      ]
    },
    {
      "cell_type": "code",
      "source": [
        "import sympy as sp\n",
        "\n",
        "def quotiententest(a_n):\n",
        "    # Definiere n als ganzzahliges Symbol\n",
        "    n = sp.symbols('n', integer=True)\n",
        "\n",
        "    # Schritt 1: Quotientenbildung a_{n+1} / a_n\n",
        "    ratio = sp.simplify(a_n.subs(n, n+1) / a_n)\n",
        "\n",
        "    # Schritt 2: Berechnung des Limes für n -> unendlich\n",
        "    limit_ratio = sp.limit(ratio, n, sp.oo)\n",
        "\n",
        "    # Schritt 3: Berechne den Konvergenzradius R = 1 / |Limes|\n",
        "    radius_of_convergence = 1 / sp.Abs(limit_ratio)\n",
        "\n",
        "    return ratio, limit_ratio, radius_of_convergence\n",
        "\n",
        "# Beispiel für die Potenzreihe: a_n = 1 / (n * 3^n)\n",
        "n = sp.symbols('n', integer=True)\n",
        "a_n_example = 1 / (n * 3**n)\n",
        "\n",
        "# Wende den Quotiententest auf das Beispiel an\n",
        "ratio, limit_ratio, radius_of_convergence = quotiententest(a_n_example)\n",
        "\n",
        "# Ergebnisse anzeigen\n",
        "sp.pprint(f\"Quotient a_(n+1) / a_n: {ratio}\")\n",
        "sp.pprint(f\"Limes: {limit_ratio}\")\n",
        "sp.pprint(f\"Konvergenzradius: {radius_of_convergence}\")\n"
      ],
      "metadata": {
        "id": "fbHkSnU0KrGh",
        "outputId": "51e613fd-7836-4e78-8554-c1c22865c8f6",
        "colab": {
          "base_uri": "https://localhost:8080/"
        }
      },
      "execution_count": null,
      "outputs": [
        {
          "output_type": "stream",
          "name": "stdout",
          "text": [
            "Quotient a_(n+1) / a_n: n/(3*(n + 1))\n",
            "Limes: 1/3\n",
            "Konvergenzradius: 3\n"
          ]
        }
      ]
    },
    {
      "cell_type": "markdown",
      "source": [
        "**Aufgabe 2 (14 Punkte).** Gegeben sei die Funktion\n",
        "\n",
        "$$f(x)=\\frac{1}{x^2(x-3)}$$\n",
        "\n",
        "Geben Sie den maximalen Definitionsbereich von $f$ an. Untersuchen Sie die Funktion auf Nullstellen, Extrema (inklusive Klassifizierung und Funktionswert), Monotonieverhalten und Verhalten an den Rändern des Definitionsbereichs. Skizzieren Sie die Funktion auf dem Intervall $[-2,5]$.\n",
        "\n"
      ],
      "metadata": {
        "id": "_6vMUlfVcUOT"
      }
    },
    {
      "cell_type": "markdown",
      "source": [
        "\n",
        "[MaTex](https://matex.mint-kolleg.kit.edu/MATeX/browse.php)"
      ],
      "metadata": {
        "id": "CK1e3WrYOOv3"
      }
    },
    {
      "cell_type": "code",
      "source": [
        "from sympy import *\n",
        "from sympy import init_printing\n",
        "from IPython.display import display, Math\n",
        "\n",
        "# Für die Ausgabe in LaTeX in Colab\n",
        "init_printing()\n",
        "\n",
        "x = symbols('x')\n",
        "f=1/(x**2*(x-3))\n",
        "fp=f.diff(x)\n",
        "fpp=fp.diff(x)\n",
        "display(Math(latex(f)))\n",
        "display(Math(latex(fp)))\n",
        "display(Math(latex(fpp)))\n",
        "f0=solve(f)\n",
        "fp0=solve(fp)\n",
        "\n",
        "#Nullstellen, Extrema\n",
        "display(Math(latex(f0)))\n",
        "display(Math(latex(fp0)))\n",
        "\n",
        "#Polstellen\n",
        "\n",
        "#Grenzwerte\n",
        "\n",
        "\n"
      ],
      "metadata": {
        "id": "5tZ4XPtWiVUd",
        "colab": {
          "base_uri": "https://localhost:8080/",
          "height": 177
        },
        "outputId": "b0d23259-b440-4558-ac7f-6646608e37ac"
      },
      "execution_count": 58,
      "outputs": [
        {
          "output_type": "display_data",
          "data": {
            "text/plain": [
              "<IPython.core.display.Math object>"
            ],
            "text/latex": "$\\displaystyle \\frac{1}{x^{2} \\left(x - 3\\right)}$"
          },
          "metadata": {}
        },
        {
          "output_type": "display_data",
          "data": {
            "text/plain": [
              "<IPython.core.display.Math object>"
            ],
            "text/latex": "$\\displaystyle - \\frac{1}{x^{2} \\left(x - 3\\right)^{2}} - \\frac{2}{x^{3} \\left(x - 3\\right)}$"
          },
          "metadata": {}
        },
        {
          "output_type": "display_data",
          "data": {
            "text/plain": [
              "<IPython.core.display.Math object>"
            ],
            "text/latex": "$\\displaystyle \\frac{2}{x^{2} \\left(x - 3\\right)^{3}} + \\frac{4}{x^{3} \\left(x - 3\\right)^{2}} + \\frac{6}{x^{4} \\left(x - 3\\right)}$"
          },
          "metadata": {}
        },
        {
          "output_type": "display_data",
          "data": {
            "text/plain": [
              "<IPython.core.display.Math object>"
            ],
            "text/latex": "$\\displaystyle \\left[ \\right]$"
          },
          "metadata": {}
        },
        {
          "output_type": "display_data",
          "data": {
            "text/plain": [
              "<IPython.core.display.Math object>"
            ],
            "text/latex": "$\\displaystyle \\left[ 2\\right]$"
          },
          "metadata": {}
        }
      ]
    },
    {
      "cell_type": "code",
      "source": [
        "#Plot\n",
        "plot(f,fp,fpp, (x, -2, 5), ylim=(-10,10))"
      ],
      "metadata": {
        "colab": {
          "base_uri": "https://localhost:8080/",
          "height": 503
        },
        "id": "E7pYUSN0VjHm",
        "outputId": "1bb202ec-1afd-41e2-97b2-706e70a7cf34"
      },
      "execution_count": 65,
      "outputs": [
        {
          "output_type": "display_data",
          "data": {
            "text/plain": [
              "<Figure size 640x480 with 1 Axes>"
            ],
            "image/png": "[encoded data removed]"
          },
          "metadata": {}
        },
        {
          "output_type": "execute_result",
          "data": {
            "text/plain": [
              "<sympy.plotting.backends.matplotlibbackend.matplotlib.MatplotlibBackend at 0x7ef4305672b0>"
            ]
          },
          "metadata": {},
          "execution_count": 65
        }
      ]
    },
    {
      "cell_type": "markdown",
      "source": [
        "**Aufgabe 3 (5+5 Punkte).**\n",
        "a) Stellen Sie\n",
        "\n",
        "$$\\frac{(\\sqrt{2} + i \\sqrt{2})^3}{(2 e^{i \\pi/3})^6}$$\n",
        "\n",
        "\n",
        "in Polarform dar.\n",
        "\n",
        "b) Bestimmen Sie alle komplexen Lösungen der Gleichung\n",
        "\n",
        "$$ z^6 - (\\sqrt2 + \\sqrt2 i) z^2 = 0 $$\n",
        "\n",
        "Geben Sie die Lösungen dabei in Polarform an.\n",
        "\n",
        "\n"
      ],
      "metadata": {
        "id": "LekoFWWfcY8z"
      }
    },
    {
      "cell_type": "markdown",
      "source": [
        "[chatGPT](https://chatgpt.com/share/e44e8a78-bdd4-4236-a394-914f0d93a121)"
      ],
      "metadata": {
        "id": "gf6D7U6GQXcj"
      }
    },
    {
      "cell_type": "code",
      "source": [
        "from sympy import *\n",
        "from sympy import init_printing\n",
        "from IPython.display import display, Math\n",
        "\n",
        "# Für die Ausgabe in LaTeX in Colab\n",
        "init_printing()\n",
        "z = symbols('z',complex=True)\n",
        "f=z**6-(sqrt(2)+I*sqrt(2))*z**2\n",
        "\n",
        "display(Math(latex(f)))\n",
        "f.expand()"
      ],
      "metadata": {
        "id": "VTmz5ssxicJ8",
        "colab": {
          "base_uri": "https://localhost:8080/",
          "height": 70
        },
        "outputId": "f04f269c-f779-4f3c-c40b-ac986530ba3a"
      },
      "execution_count": 77,
      "outputs": [
        {
          "output_type": "display_data",
          "data": {
            "text/plain": [
              "<IPython.core.display.Math object>"
            ],
            "text/latex": "$\\displaystyle z^{6} - z^{2} \\left(\\sqrt{2} + \\sqrt{2} i\\right)$"
          },
          "metadata": {}
        },
        {
          "output_type": "execute_result",
          "data": {
            "text/plain": [
              " 6       2         2\n",
              "z  - √2⋅z  - √2⋅ⅈ⋅z "
            ],
            "text/latex": "$\\displaystyle z^{6} - \\sqrt{2} z^{2} - \\sqrt{2} i z^{2}$"
          },
          "metadata": {},
          "execution_count": 77
        }
      ]
    },
    {
      "cell_type": "markdown",
      "source": [
        "**Aufgabe 4 (6+4 Punkte)**\n",
        "\n",
        "a) Bestimmen Sie das Taylorpolynom dritter Ordnung der Funktion\n",
        "\n",
        "$$ g(x)=x^2ln (x) $$\n",
        "\n",
        "im Entwicklungspunkt $x=e$\n",
        "\n",
        "b) Schätzen Sie mit Hilfe der Restgliedformel den Fehler auf dem Intervall $[e,2e]$ ab.\n",
        "\n"
      ],
      "metadata": {
        "id": "S_XbImLGceFr"
      }
    },
    {
      "cell_type": "markdown",
      "source": [
        "[chatGPT](https://chatgpt.com/share/c84c0c01-852d-40d2-a463-220ebc67123d)"
      ],
      "metadata": {
        "id": "GepTcDnVOozC"
      }
    },
    {
      "cell_type": "code",
      "source": [
        "from sympy import *\n",
        "from sympy import init_printing\n",
        "from IPython.display import display, Math\n",
        "\n",
        "# Für die Ausgabe in LaTeX in Colab\n",
        "init_printing()\n",
        "\n",
        "x = symbols('x')\n",
        "# Funktion und Ableitungen bis 3. Ordnung\n",
        "f=x**2*ln(x)\n",
        "f_prime=diff(f,x)\n",
        "f_dprime=diff(f_prime,x)\n",
        "f_ddprime=diff(f_dprime,x)\n",
        "# print\n",
        "display(Math(latex(f_prime)))\n",
        "display(Math(latex(f_dprime)))\n",
        "display(Math(latex(f_ddprime)))\n",
        "# x=e einsetzen und drucken\n",
        "display(Math(latex(f_prime.subs(x,E))))\n",
        "display(Math(latex(f_dprime.subs(x,E))))\n",
        "display(Math(latex(f_ddprime.subs(x,E))))\n",
        "display(Math(r' \\text{Taylorentwicklung bis 3. Ordnung an der Stelle e: }'))\n",
        "f_prime.subs(x,E)*(x-E)+f_dprime.subs(x,E)*(x-E)**2/2+f_ddprime.subs(x,E)*(x-E)**3/6\n"
      ],
      "metadata": {
        "id": "5cnC47IVifCw",
        "colab": {
          "base_uri": "https://localhost:8080/",
          "height": 228
        },
        "outputId": "ca5b4bbd-5eeb-4b0c-b5e0-d93764d4aa4e"
      },
      "execution_count": null,
      "outputs": [
        {
          "output_type": "display_data",
          "data": {
            "text/plain": [
              "<IPython.core.display.Math object>"
            ],
            "text/latex": "$\\displaystyle 2 x \\log{\\left(x \\right)} + x$"
          },
          "metadata": {}
        },
        {
          "output_type": "display_data",
          "data": {
            "text/plain": [
              "<IPython.core.display.Math object>"
            ],
            "text/latex": "$\\displaystyle 2 \\log{\\left(x \\right)} + 3$"
          },
          "metadata": {}
        },
        {
          "output_type": "display_data",
          "data": {
            "text/plain": [
              "<IPython.core.display.Math object>"
            ],
            "text/latex": "$\\displaystyle \\frac{2}{x}$"
          },
          "metadata": {}
        },
        {
          "output_type": "display_data",
          "data": {
            "text/plain": [
              "<IPython.core.display.Math object>"
            ],
            "text/latex": "$\\displaystyle 3 e$"
          },
          "metadata": {}
        },
        {
          "output_type": "display_data",
          "data": {
            "text/plain": [
              "<IPython.core.display.Math object>"
            ],
            "text/latex": "$\\displaystyle 5$"
          },
          "metadata": {}
        },
        {
          "output_type": "display_data",
          "data": {
            "text/plain": [
              "<IPython.core.display.Math object>"
            ],
            "text/latex": "$\\displaystyle \\frac{2}{e}$"
          },
          "metadata": {}
        },
        {
          "output_type": "display_data",
          "data": {
            "text/plain": [
              "<IPython.core.display.Math object>"
            ],
            "text/latex": "$\\displaystyle  \\text{Taylorentwicklung bis 3. Ordnung an der Stelle e: }$"
          },
          "metadata": {}
        },
        {
          "output_type": "execute_result",
          "data": {
            "text/plain": [
              "       3  -1            2              \n",
              "(x - ℯ) ⋅ℯ     5⋅(x - ℯ)               \n",
              "──────────── + ────────── + 3⋅ℯ⋅(x - ℯ)\n",
              "     3             2                   "
            ],
            "text/latex": "$\\displaystyle \\frac{\\left(x - e\\right)^{3}}{3 e} + \\frac{5 \\left(x - e\\right)^{2}}{2} + 3 e \\left(x - e\\right)$"
          },
          "metadata": {},
          "execution_count": 35
        }
      ]
    },
    {
      "cell_type": "markdown",
      "source": [
        "**Aufgabe 5 (7+2 Punkte).**\n",
        "\n",
        "Gegeben sei die Funktion\n",
        "\n",
        "$$h(x)=\\frac{x^2+4x-3}{x^3-3x-2}. $$\n",
        "\n",
        "a) Berechnen Sie die Partialbruchzerlegung von $h(x)$.\n",
        "\n",
        "b) Bestimmen Sie eine Stammfunktion von $h(x)$.\n",
        "\n",
        "\n"
      ],
      "metadata": {
        "id": "fuoCJZ6echyX"
      }
    },
    {
      "cell_type": "markdown",
      "source": [
        "[chatGPT](https://chatgpt.com/share/8727aec5-a5b8-4cf0-b703-6cdcd18fed1b)"
      ],
      "metadata": {
        "id": "Lrkakwx5Mv-B"
      }
    },
    {
      "cell_type": "code",
      "source": [
        "Z=x**2+4*x-3\n",
        "N=x**3-3*x-2\n",
        "h=Z/N"
      ],
      "metadata": {
        "id": "XgjXOMU_igJe"
      },
      "execution_count": null,
      "outputs": []
    },
    {
      "cell_type": "code",
      "source": [
        "N.factor()"
      ],
      "metadata": {
        "colab": {
          "base_uri": "https://localhost:8080/",
          "height": 39
        },
        "id": "x2HC3s_FuOUB",
        "outputId": "75e6ea0d-0916-45e2-bcaf-dbad91cc93e4"
      },
      "execution_count": null,
      "outputs": [
        {
          "output_type": "execute_result",
          "data": {
            "text/plain": [
              "               2\n",
              "(x - 2)⋅(x + 1) "
            ],
            "text/latex": "$\\displaystyle \\left(x - 2\\right) \\left(x + 1\\right)^{2}$"
          },
          "metadata": {},
          "execution_count": 37
        }
      ]
    },
    {
      "cell_type": "code",
      "source": [
        "h.apart()"
      ],
      "metadata": {
        "colab": {
          "base_uri": "https://localhost:8080/",
          "height": 58
        },
        "id": "4vO2UzKNuUUF",
        "outputId": "c0520fad-5081-465e-ed29-a828715bd45f"
      },
      "execution_count": null,
      "outputs": [
        {
          "output_type": "execute_result",
          "data": {
            "text/plain": [
              "   2         1  \n",
              "──────── + ─────\n",
              "       2   x - 2\n",
              "(x + 1)         "
            ],
            "text/latex": "$\\displaystyle \\frac{2}{\\left(x + 1\\right)^{2}} + \\frac{1}{x - 2}$"
          },
          "metadata": {},
          "execution_count": 40
        }
      ]
    },
    {
      "cell_type": "markdown",
      "source": [
        "**Aufgabe 6 (4+6 Punkte).**\n",
        "\n",
        "a) Berechnen Sie den Grenzwert\n",
        "\n",
        "$$\\lim_{y->1}\\sqrt{1-y^2}ln(\\sqrt{1-y^2}). $$\n",
        "\n",
        "b) Berechnen Sie für $y\\in (0,1)$ das Integral\n",
        "\n",
        "$$ I(y)=\\int_0^yln(\\sqrt{1-x^2})\\frac{x}{\\sqrt{1-x^2}}dx .$$\n",
        "\n",
        "*Hinweis: Für $x>0$ gilt: $xln(x)'=ln(x)$*\n"
      ],
      "metadata": {
        "id": "OPI9fxq8ckt2"
      }
    },
    {
      "cell_type": "markdown",
      "source": [
        "a) [chatGPT](https://chatgpt.com/share/7c059465-4c9a-4e72-882e-07f1ac9b73d7)"
      ],
      "metadata": {
        "id": "wKnHlZYCNbLa"
      }
    },
    {
      "cell_type": "markdown",
      "source": [
        "b) [chatGPT](https://chatgpt.com/share/90d6156d-e59b-450e-97a3-7e0957b9cbec)"
      ],
      "metadata": {
        "id": "WRc9HnjuNlG4"
      }
    }
  ]
}