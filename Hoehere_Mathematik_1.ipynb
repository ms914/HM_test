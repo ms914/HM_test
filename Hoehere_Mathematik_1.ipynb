{
  "nbformat": 4,
  "nbformat_minor": 0,
  "metadata": {
    "colab": {
      "provenance": [],
      "authorship_tag": "ABX9TyNfiu2v7daX8ldFIp3z0exM",
      "include_colab_link": true
    },
    "kernelspec": {
      "name": "python3",
      "display_name": "Python 3"
    },
    "language_info": {
      "name": "python"
    }
  },
  "cells": [
    {
      "cell_type": "markdown",
      "metadata": {
        "id": "view-in-github",
        "colab_type": "text"
      },
      "source": [
        "<a href=\"https://colab.research.google.com/github/ms914/HM_test/blob/main/Hoehere_Mathematik_1.ipynb\" target=\"_parent\"><img src=\"https://colab.research.google.com/assets/colab-badge.svg\" alt=\"Open In Colab\"/></a>"
      ]
    },
    {
      "cell_type": "markdown",
      "source": [
        "- create using matex\n",
        "- create using prompts\n",
        "- assert using sympy"
      ],
      "metadata": {
        "id": "goae4Xq-jjSG"
      }
    },
    {
      "cell_type": "markdown",
      "source": [
        "HM1\n",
        "\n",
        "**Aufgabe 1 (7 Punkte).**\n",
        "\n",
        "Bestimmen Sie alle $x \\in ℝ $ für die die Reihe\n",
        "\n",
        "$$\\sum_{n=1}^{\\infty} \\frac{1}{n 3^n} {(x-1)^n}$$\n",
        "\n",
        "konvergiert.\n",
        "\n",
        "[MaTex](https://matex.mint-kolleg.kit.edu/MATeX/generatorview.php?data=data:image/png;base64,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)\n",
        "\n"
      ],
      "metadata": {
        "id": "yBla5qwea8Tj"
      }
    },
    {
      "cell_type": "code",
      "execution_count": null,
      "metadata": {
        "id": "p8aS-Y-pgK8K"
      },
      "outputs": [],
      "source": [
        "from sympy import *"
      ]
    },
    {
      "cell_type": "markdown",
      "source": [
        "**Aufgabe 2 (14 Punkte).** Gegeben sei die Funktion\n",
        "\n",
        "$$f(x)=\\frac{1}{x^2(x-3)}$$\n",
        "\n",
        "Geben Sie den maximalen Definitionsbereich von $f$ an. Untersuchen Sie die Funktion auf Nullstellen, Extrema (inklusive Klassifizierung und Funktionswert), Monotonieverhalten und Verhalten an den Rändern des Definitionsbereichs. Skizzieren Sie die Funktion auf dem Intervall $[-2,5]$.\n",
        "\n"
      ],
      "metadata": {
        "id": "_6vMUlfVcUOT"
      }
    },
    {
      "cell_type": "code",
      "source": [],
      "metadata": {
        "id": "5tZ4XPtWiVUd"
      },
      "execution_count": null,
      "outputs": []
    },
    {
      "cell_type": "markdown",
      "source": [
        "**Aufgabe 3 (5+5 Punkte).**\n",
        "a) Stellen Sie\n",
        "\n",
        "$$\\frac{(\\sqrt{2} + i \\sqrt{2})^3}{(2 e^{i \\pi/3})^6}$$\n",
        "\n",
        "\n",
        "in Polarform dar.\n",
        "\n",
        "b) Bestimmen Sie alle komplexen Lösungen der Gleichung\n",
        "\n",
        "$$ z^6 - (\\sqrt2 + \\sqrt2 i) z^2 = 0 $$\n",
        "\n",
        "Geben Sie die Lösungen dabei in Polarform an.\n",
        "\n",
        "\n"
      ],
      "metadata": {
        "id": "LekoFWWfcY8z"
      }
    },
    {
      "cell_type": "code",
      "source": [],
      "metadata": {
        "id": "VTmz5ssxicJ8"
      },
      "execution_count": null,
      "outputs": []
    },
    {
      "cell_type": "markdown",
      "source": [
        "**Aufgabe 4 (6+4 Punkte)**\n",
        "\n",
        "a) Bestimmen Sie das Taylorpolynom dritter Ordnung der Funktion\n",
        "\n",
        "$$ g(x)=x^2ln (x) $$\n",
        "\n",
        "im Entwicklungspunkt $x=e$\n",
        "\n",
        "b) Schätzen Sie mit Hilfe der Restgliedformel den Fehler auf dem Intervall $[e,2e]$ ab.\n",
        "\n"
      ],
      "metadata": {
        "id": "S_XbImLGceFr"
      }
    },
    {
      "cell_type": "code",
      "source": [],
      "metadata": {
        "id": "5cnC47IVifCw"
      },
      "execution_count": null,
      "outputs": []
    },
    {
      "cell_type": "markdown",
      "source": [
        "**Aufgabe 5 (7+2 Punkte).**\n",
        "\n",
        "Gegeben sei die Funktion\n",
        "\n",
        "$$h(x)=\\frac{x^2+4x-3}{x^3-3x-2}. $$\n",
        "\n",
        "a) Berechnen Sie die Partialbruchzerlegung von $h(x)$.\n",
        "\n",
        "b) Bestimmen Sie eine Stammfunktion von $h(x)$.\n",
        "\n",
        "\n"
      ],
      "metadata": {
        "id": "fuoCJZ6echyX"
      }
    },
    {
      "cell_type": "code",
      "source": [],
      "metadata": {
        "id": "XgjXOMU_igJe"
      },
      "execution_count": null,
      "outputs": []
    },
    {
      "cell_type": "markdown",
      "source": [
        "**Aufgabe 6 (4+6 Punkte).**\n",
        "\n",
        "a) Berechnen Sie den Grenzwert\n",
        "\n",
        "$$\\lim_{y->1}\\sqrt{1-y^2}ln(\\sqrt{1-y^2}). $$\n",
        "\n",
        "b) Berechnen Sie für $y\\in (0,1)$ das Integral\n",
        "\n",
        "$$ I(y)=\\int_0^yln(\\sqrt{1-x^2})\\frac{x}{\\sqrt{1-x^2}}dx .$$\n",
        "\n",
        "*Hinweis: Für $x>0$ gilt: $xln(x)'=ln(x)$*\n"
      ],
      "metadata": {
        "id": "OPI9fxq8ckt2"
      }
    }
  ]
}