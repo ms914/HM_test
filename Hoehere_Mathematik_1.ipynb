{
  "nbformat": 4,
  "nbformat_minor": 0,
  "metadata": {
    "colab": {
      "provenance": [],
      "authorship_tag": "ABX9TyNTW9utT911iHoq+pCKF9kq",
      "include_colab_link": true
    },
    "kernelspec": {
      "name": "python3",
      "display_name": "Python 3"
    },
    "language_info": {
      "name": "python"
    }
  },
  "cells": [
    {
      "cell_type": "markdown",
      "metadata": {
        "id": "view-in-github",
        "colab_type": "text"
      },
      "source": [
        "<a href=\"https://colab.research.google.com/github/ms914/HM_test/blob/main/Hoehere_Mathematik_1.ipynb\" target=\"_parent\"><img src=\"https://colab.research.google.com/assets/colab-badge.svg\" alt=\"Open In Colab\"/></a>"
      ]
    },
    {
      "cell_type": "markdown",
      "source": [
        "- create using matex\n",
        "- create using prompts\n",
        "- assert using sympy"
      ],
      "metadata": {
        "id": "goae4Xq-jjSG"
      }
    },
    {
      "cell_type": "markdown",
      "source": [
        "HM1\n",
        "\n",
        "**Aufgabe 1 (7 Punkte).**\n",
        "\n",
        "Bestimmen Sie alle $x \\in ℝ $ für die die Reihe\n",
        "\n",
        "$$\\sum_{n=1}^{\\infty} \\frac{1}{n 3^n} {(x-1)^n}$$\n",
        "\n",
        "konvergiert.\n",
        "\n",
        "[MaTex](https://matex.mint-kolleg.kit.edu/MATeX/browse.php)\n",
        "\n",
        "[chatGPT](https://chatgpt.com/share/d4923659-e203-45cb-ba20-153fb533f09a)"
      ],
      "metadata": {
        "id": "yBla5qwea8Tj"
      }
    },
    {
      "cell_type": "code",
      "execution_count": null,
      "metadata": {
        "id": "p8aS-Y-pgK8K"
      },
      "outputs": [],
      "source": [
        "import sympy as sp\n",
        "\n",
        "# Schritt 1: Definiere die Variable n und den Term a_n\n",
        "n = sp.symbols('n', integer=True)\n",
        "x = sp.symbols('x')\n",
        "\n",
        "# Definiere den Term a_n = 1 / (n * 3^n)\n",
        "a_n = 1 / (n * 3**n)\n",
        "\n",
        "# Schritt 2: Wende den Quotiententest an\n",
        "# Berechne das Verhältnis a_{n+1} / a_n\n",
        "# a_{n+1} = 1 / ((n+1) * 3^(n+1)) -> Zähler und Nenner für n+1 einsetzen\n",
        "# Das bedeutet:\n",
        "# Zähler: 1 bleibt im Zähler stehen\n",
        "# Nenner: (n+1) * 3^(n+1) ist der neue Nenner\n",
        "# a_{n+1} / a_n wird zu:\n",
        "# [1 / ((n+1) * 3^(n+1))] / [1 / (n * 3^n)]\n",
        "# Jetzt multiplizieren wir mit dem Kehrwert des Nenners von a_n:\n",
        "# = [1 / ((n+1) * 3^(n+1))] * [(n * 3^n) / 1]\n",
        "ratio = sp.simplify(a_n.subs(n, n+1) / a_n)\n",
        "\n",
        "# Kürzen der gemeinsamen Terme:\n",
        "# Im Nenner haben wir 3^(n+1), das können wir aufspalten in 3^n * 3.\n",
        "# Dadurch kürzen sich die 3^n-Terme im Zähler und Nenner weg, und wir erhalten:\n",
        "# ratio = (n / (n+1)) * (1 / 3)\n",
        "\n",
        "# Schritt 3: Berechne den Limes des Verhältnisses, wenn n gegen unendlich geht\n",
        "# Für große n strebt n/(n+1) gegen 1.\n",
        "limit_ratio = sp.limit(ratio, n, sp.oo)\n",
        "\n",
        "# Schritt 4: Der Konvergenzradius ist der Kehrwert dieses Limes\n",
        "# Da der Limes des Verhältnisses 1/3 ist, ist der Konvergenzradius R = 3.\n",
        "radius_of_convergence = 1 / limit_ratio\n",
        "\n",
        "# Ergebnisse anzeigen\n",
        "ratio, limit_ratio, radius_of_convergence\n"
      ]
    },
    {
      "cell_type": "markdown",
      "source": [
        "**Aufgabe 2 (14 Punkte).** Gegeben sei die Funktion\n",
        "\n",
        "$$f(x)=\\frac{1}{x^2(x-3)}$$\n",
        "\n",
        "Geben Sie den maximalen Definitionsbereich von $f$ an. Untersuchen Sie die Funktion auf Nullstellen, Extrema (inklusive Klassifizierung und Funktionswert), Monotonieverhalten und Verhalten an den Rändern des Definitionsbereichs. Skizzieren Sie die Funktion auf dem Intervall $[-2,5]$.\n",
        "\n"
      ],
      "metadata": {
        "id": "_6vMUlfVcUOT"
      }
    },
    {
      "cell_type": "code",
      "source": [],
      "metadata": {
        "id": "5tZ4XPtWiVUd"
      },
      "execution_count": null,
      "outputs": []
    },
    {
      "cell_type": "markdown",
      "source": [
        "**Aufgabe 3 (5+5 Punkte).**\n",
        "a) Stellen Sie\n",
        "\n",
        "$$\\frac{(\\sqrt{2} + i \\sqrt{2})^3}{(2 e^{i \\pi/3})^6}$$\n",
        "\n",
        "\n",
        "in Polarform dar.\n",
        "\n",
        "b) Bestimmen Sie alle komplexen Lösungen der Gleichung\n",
        "\n",
        "$$ z^6 - (\\sqrt2 + \\sqrt2 i) z^2 = 0 $$\n",
        "\n",
        "Geben Sie die Lösungen dabei in Polarform an.\n",
        "\n",
        "\n"
      ],
      "metadata": {
        "id": "LekoFWWfcY8z"
      }
    },
    {
      "cell_type": "code",
      "source": [],
      "metadata": {
        "id": "VTmz5ssxicJ8"
      },
      "execution_count": null,
      "outputs": []
    },
    {
      "cell_type": "markdown",
      "source": [
        "**Aufgabe 4 (6+4 Punkte)**\n",
        "\n",
        "a) Bestimmen Sie das Taylorpolynom dritter Ordnung der Funktion\n",
        "\n",
        "$$ g(x)=x^2ln (x) $$\n",
        "\n",
        "im Entwicklungspunkt $x=e$\n",
        "\n",
        "b) Schätzen Sie mit Hilfe der Restgliedformel den Fehler auf dem Intervall $[e,2e]$ ab.\n",
        "\n"
      ],
      "metadata": {
        "id": "S_XbImLGceFr"
      }
    },
    {
      "cell_type": "code",
      "source": [],
      "metadata": {
        "id": "5cnC47IVifCw"
      },
      "execution_count": null,
      "outputs": []
    },
    {
      "cell_type": "markdown",
      "source": [
        "**Aufgabe 5 (7+2 Punkte).**\n",
        "\n",
        "Gegeben sei die Funktion\n",
        "\n",
        "$$h(x)=\\frac{x^2+4x-3}{x^3-3x-2}. $$\n",
        "\n",
        "a) Berechnen Sie die Partialbruchzerlegung von $h(x)$.\n",
        "\n",
        "b) Bestimmen Sie eine Stammfunktion von $h(x)$.\n",
        "\n",
        "\n"
      ],
      "metadata": {
        "id": "fuoCJZ6echyX"
      }
    },
    {
      "cell_type": "code",
      "source": [],
      "metadata": {
        "id": "XgjXOMU_igJe"
      },
      "execution_count": null,
      "outputs": []
    },
    {
      "cell_type": "markdown",
      "source": [
        "**Aufgabe 6 (4+6 Punkte).**\n",
        "\n",
        "a) Berechnen Sie den Grenzwert\n",
        "\n",
        "$$\\lim_{y->1}\\sqrt{1-y^2}ln(\\sqrt{1-y^2}). $$\n",
        "\n",
        "b) Berechnen Sie für $y\\in (0,1)$ das Integral\n",
        "\n",
        "$$ I(y)=\\int_0^yln(\\sqrt{1-x^2})\\frac{x}{\\sqrt{1-x^2}}dx .$$\n",
        "\n",
        "*Hinweis: Für $x>0$ gilt: $xln(x)'=ln(x)$*\n"
      ],
      "metadata": {
        "id": "OPI9fxq8ckt2"
      }
    }
  ]
}