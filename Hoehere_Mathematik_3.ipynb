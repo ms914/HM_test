{
  "nbformat": 4,
  "nbformat_minor": 0,
  "metadata": {
    "colab": {
      "provenance": [],
      "authorship_tag": "ABX9TyPwQflzNdwIbPa+J+eQDON8",
      "include_colab_link": true
    },
    "kernelspec": {
      "name": "python3",
      "display_name": "Python 3"
    },
    "language_info": {
      "name": "python"
    }
  },
  "cells": [
    {
      "cell_type": "markdown",
      "metadata": {
        "id": "view-in-github",
        "colab_type": "text"
      },
      "source": [
        "<a href=\"https://colab.research.google.com/github/ms914/HM_test/blob/main/Hoehere_Mathematik_3.ipynb\" target=\"_parent\"><img src=\"https://colab.research.google.com/assets/colab-badge.svg\" alt=\"Open In Colab\"/></a>"
      ]
    },
    {
      "cell_type": "markdown",
      "source": [
        "Grafische Zusammenfassung\n",
        "PDE: Xdot=AX (gekrümmtes Vektorfeld = Rotation) Lösung: exp(-At) mit A=FM und Eigensystem\n",
        "VA: Integral über Vektorfeld in Kugel (gekrümmt = Rotation) ist Integral über Rand bzw. Oberfläche der Kugel\n",
        "gradient^2 misst die Krümmung des Vektorfeldes\n",
        "nabla F(x,y,z) ist ein geometrisches Produkt, vereint div und curl\n",
        "div: Nabla dot F\n",
        "curl: Nabla outer F\n",
        "gradient = div + curl\n",
        "gradient^-1 existiert, ist invertierbar! -> Integration\n",
        "F ist bestimmt über 1) Nabla F in U und 2) F auf Rand U\n",
        "1) misst die geometrische Form oder Shape im Gebiet\n",
        "2) legt die absoluten Werte fest (Offset)\n",
        "Dual: used for definition of crossproduct\n",
        "Maxwell's equations are the same equations as the CFD equations\n",
        "Electromagnetic Field F: Vektorfeld plus Bivector-feld (E+iB)\n",
        "Hydodynamik: Geschwindigkeitsfeld und Druckfeld\n",
        "$(\\del_t+\\nabla)F=0$\n",
        "Wellengleichung: erfüllt wegen oben (Produkt)\n",
        "\n",
        "\n",
        "\n",
        "Integration\n",
        "Potential=totales Differential=Exakt\n",
        "Exponentialoperator\n",
        "FM\n",
        "Potential\n",
        "Oberfläche und Tangentialfläche\n",
        "Stokes\n",
        "Gauss"
      ],
      "metadata": {
        "id": "i4oa5tr9Hr5z"
      }
    },
    {
      "cell_type": "markdown",
      "source": [
        "HM3:\n",
        "\n",
        "**Aufgabe 1 (10 Punkte)**\n",
        "\n",
        "a) Lösen Sie das Anfangswertproblem $$ x'=tx^2+t\\quad\\text{ x(0)=0}$$\n",
        "und geben Sie den maximalen Definitionsbereich an.\n",
        "\n",
        "Hinweis $\\arctan'(x)=\\frac{1}{1+x^2}$\n",
        "\n",
        "b) Betrachten Sie die Differentialgleichung\n",
        "\n",
        "$$2tx^3-2t+3t^2x^2x'=0,\\quad x(1)=0$$\n",
        "  (i) Zeigen Sie das die DGL exakt ist.\n",
        "\n",
        "  (ii) Geben Sie eine Funktion $\\Phi=\\Phi(t,x)$ an, so dass $\\Phi_t(t,x)+\\Phi_x(t,x)\\dot x=0$\n",
        "\n",
        "  (iii) Geben Sie die Lösung des Anfangswertproblems an. Gegen welchen Wert konvergiert die Lösung für $t \\rightarrow \\infty$.\n"
      ],
      "metadata": {
        "id": "SXFLXVnpHAbm"
      }
    },
    {
      "cell_type": "markdown",
      "source": [
        "[chatGPT](https://chatgpt.com/share/4d74b492-554c-45d4-9500-4699d0718863)"
      ],
      "metadata": {
        "id": "E31faMoQ5c3D"
      }
    },
    {
      "cell_type": "markdown",
      "source": [
        "**Aufgabe 2 (10 Punkte)**\n",
        "Gegeben ist das lineare System\n",
        "$$ \\dot x=\\begin{pmatrix} 3&-1\\\\5&-1 \\end{pmatrix}x$$\n",
        "\n",
        "a) Geben Sie ein reelles Fundamentalsystem an.\n",
        "\n",
        "b) Geben sie die allgemeine reelle Lösung des Anfangswertproblems $\\dot x=Ax+b$ mit\n",
        "$b=\\begin{pmatrix}1\\\\0\\end{pmatrix}$\n",
        "\n",
        "an.\n"
      ],
      "metadata": {
        "id": "9EbxeODHHAOZ"
      }
    },
    {
      "cell_type": "markdown",
      "source": [
        "[chatGPT](https://chatgpt.com/share/473ce9b7-ff9f-40eb-bd8e-c61f58dc0ff0)"
      ],
      "metadata": {
        "id": "NLIUQ3_g58Dx"
      }
    },
    {
      "cell_type": "markdown",
      "source": [
        "**Aufgabe 3 (10 Punkte)**\n",
        "Gegeben sei die partielle Differentialgleichung\n",
        "$$ 2u_t-u_{xx}=0$$\n",
        "mit $x\\in[0,\\pi]$ und $t>0$\n",
        "\n",
        "a) Klassifizieren Sie die Differentialgleichung. Verwenden Sie dazu die Begriffe elliptisch, parabolisch, hyperbolisch. Begründen Sie ihre Aussage.\n",
        "\n",
        "b) Bestimmen Sie die Koeffizienten der Fouriereihe der ungerade periodisch fortgesetzten Funktion\n",
        "$$f(x)=1\\quad  \\text{für } x\\in [0,\\pi]$$.\n",
        "\n",
        "c) Bestimmen Sie für alle $k\\in ℕ $ eine Lösung der PDE mit der Anfangsbedingung\n",
        "\n",
        "$$u(0,x)=sin(kx)\\quad x\\in[0,\\pi]$$\n",
        "\n",
        "die die Randbedingungen $u(t,0)=u(t,\\pi)=0, t>0$ erfüllt."
      ],
      "metadata": {
        "id": "4pB9WTxVHAAU"
      }
    },
    {
      "cell_type": "markdown",
      "source": [
        "[chatGPT](https://chatgpt.com/share/26adec76-42d7-4cd6-b1a0-b2eb18017971)"
      ],
      "metadata": {
        "id": "8RxmOyfy6SyT"
      }
    },
    {
      "cell_type": "markdown",
      "source": [
        "Aufgabe 4 (10 Punkte)\n",
        "\n",
        "Gegeben seine das parameterabhängige Vektorfeld $F:ℝ^3\\rightarrow ℝ^3$ und der Weg $\\gamma: [0,1]\\rightarrow ℝ$.\n",
        "\n",
        "$F=\\begin{pmatrix} x\\frac{y^3}{3}\\\\x^2(z^2+\\frac{y^2}{2})-\\alpha x^2z^2\\\\(1-\\alpha)2x^2yz+z^2 \\end{pmatrix}$ und $\\gamma(t)=\\begin{pmatrix} 1-t^2\\\\ t^2\\\\ t\\end{pmatrix}$\n",
        "\n",
        "a) Bestimen Sie alle $\\alpha\\in ℝ$, so dass $F$ ein Potential besitzt. 4P\n",
        "\n",
        "b) Geben Sie für $\\alpha=1$ ein  Potential an. 4P\n",
        "\n",
        "c) Berechnen Sie für $\\alpha=1$ das Kurvenintegral 2. Art des Vektorfelds $F$ entlang $\\gamma$. 2P"
      ],
      "metadata": {
        "id": "pn-b2ZHKG_wS"
      }
    },
    {
      "cell_type": "markdown",
      "source": [
        "[chatGPT](https://chatgpt.com/share/327b5887-bb70-474e-a69e-0c27fb6b89a7)"
      ],
      "metadata": {
        "id": "CIk-FLEE67Rm"
      }
    },
    {
      "cell_type": "markdown",
      "source": [
        "**Aufgabe 5 (10 Punkte)**\n",
        "\n",
        "Es sei $\\gamma(u)=(e^u-1,0,u)^T$ mit $u\\in[0,1]$ ein planarer Weg in der x-z-Ebene. Mit $A$ bezeichnen wir die Rotationsfläche, die entsteht, wenn $\\gamma$ um die z-Achse  rotiert wird.\n",
        "\n",
        "Gegeben sei außerdem das Vektorfeld\n",
        "\n",
        "$$ F:ℝ^3\\rightarrow ℝ^3, F(x,y,z)=\\begin{pmatrix} x+y\\\\ y-x \\\\2 \\end{pmatrix} $$\n",
        "\n",
        "a) Geben Sie eine Parametrisierung $f(u,v)$ der Fläche $A$ an. 3P\n",
        "\n",
        "b) Bestimmen Sie Tangentialvektoren und Normenvektor an die Fläche $A$. 3P\n",
        "\n",
        "c) Bestimmen Sie das Oberflächenintegral 2.Art $\\int_AF\\cdot dn$. 3P\n"
      ],
      "metadata": {
        "id": "gI8asRq1G_XV"
      }
    },
    {
      "cell_type": "markdown",
      "source": [
        "[chatGPT](https://chatgpt.com/share/99450bad-95ee-4309-8b96-27f4bae40fcf)"
      ],
      "metadata": {
        "id": "KbMwzfSN93ta"
      }
    },
    {
      "cell_type": "markdown",
      "source": [
        "**Aufgabe 6 (10 Punkte)**\n",
        "\n",
        "Es sei das Kugelsegment $K$ durch\n",
        "\n",
        "$$ K=\\left\\{(x,y,z)^T\\in ℝ^3:x^2+y^2+z^2\\leq4, y\\geq0, z\\geq0\\right\\}$$\n",
        "\n",
        "gegeben und $\\partial K$ sei die Vereinigung aller Oberflächen des Kugelsegments.\n",
        "\n",
        "Weiterhin sei das Vektorfeld $F:ℝ^3\\rightarrow ℝ^3$ gegeben durch\n",
        "\n",
        "$$F(x,y,z)=\\begin{pmatrix} x-y\\\\x+y \\\\z+xy \\end{pmatrix}$$\n",
        "\n",
        "a) Parametrisieren Sie das Volumen in Kugelkoordinaten.\n",
        "\n",
        "b) Berechnen Sie den Fluss von $F$ durch $\\partial K$, also $\\int_{\\partial K}F\\cdot dn$, wobei die Normale $n$ nach außen zeigt.\n",
        "\n",
        "c) Berechnen Sie  $\\int_{\\partial K}rot(F)\\cdot dn$.\n",
        "\n",
        "d) Berechnen Sie mit Hilfe des Satzes von Stokes das Integral $\\int_{\\partial K \\text{\\B}}F\\cdot dn$, wobei $B$ der Boden des Kugelsegments in der ($x$-$y$)-Ebene ist.\n",
        "\n"
      ],
      "metadata": {
        "id": "fiVSghZuG_Fz"
      }
    },
    {
      "cell_type": "markdown",
      "source": [
        "[chatGPT](https://chatgpt.com/share/06ab7cfe-f38f-4314-889d-14c94adb6a45)\n"
      ],
      "metadata": {
        "id": "jujr_JyW-Iz2"
      }
    }
  ]
}